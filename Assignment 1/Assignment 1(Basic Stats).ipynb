{
 "cells": [
  {
   "cell_type": "code",
   "execution_count": 1,
   "id": "05b30ae2",
   "metadata": {},
   "outputs": [],
   "source": [
    "import numpy as np\n",
    "import pandas as pd\n",
    "import matplotlib as plt\n",
    "import seaborn as sns\n",
    "from scipy import stats"
   ]
  },
  {
   "cell_type": "markdown",
   "id": "dece8430",
   "metadata": {},
   "source": [
    "# Q7"
   ]
  },
  {
   "cell_type": "code",
   "execution_count": 2,
   "id": "54913e03",
   "metadata": {},
   "outputs": [
    {
     "data": {
      "text/html": [
       "<div>\n",
       "<style scoped>\n",
       "    .dataframe tbody tr th:only-of-type {\n",
       "        vertical-align: middle;\n",
       "    }\n",
       "\n",
       "    .dataframe tbody tr th {\n",
       "        vertical-align: top;\n",
       "    }\n",
       "\n",
       "    .dataframe thead th {\n",
       "        text-align: right;\n",
       "    }\n",
       "</style>\n",
       "<table border=\"1\" class=\"dataframe\">\n",
       "  <thead>\n",
       "    <tr style=\"text-align: right;\">\n",
       "      <th></th>\n",
       "      <th>Unnamed: 0</th>\n",
       "      <th>Points</th>\n",
       "      <th>Score</th>\n",
       "      <th>Weigh</th>\n",
       "    </tr>\n",
       "  </thead>\n",
       "  <tbody>\n",
       "    <tr>\n",
       "      <th>0</th>\n",
       "      <td>Mazda RX4</td>\n",
       "      <td>3.90</td>\n",
       "      <td>2.620</td>\n",
       "      <td>16.46</td>\n",
       "    </tr>\n",
       "    <tr>\n",
       "      <th>1</th>\n",
       "      <td>Mazda RX4 Wag</td>\n",
       "      <td>3.90</td>\n",
       "      <td>2.875</td>\n",
       "      <td>17.02</td>\n",
       "    </tr>\n",
       "    <tr>\n",
       "      <th>2</th>\n",
       "      <td>Datsun 710</td>\n",
       "      <td>3.85</td>\n",
       "      <td>2.320</td>\n",
       "      <td>18.61</td>\n",
       "    </tr>\n",
       "    <tr>\n",
       "      <th>3</th>\n",
       "      <td>Hornet 4 Drive</td>\n",
       "      <td>3.08</td>\n",
       "      <td>3.215</td>\n",
       "      <td>19.44</td>\n",
       "    </tr>\n",
       "    <tr>\n",
       "      <th>4</th>\n",
       "      <td>Hornet Sportabout</td>\n",
       "      <td>3.15</td>\n",
       "      <td>3.440</td>\n",
       "      <td>17.02</td>\n",
       "    </tr>\n",
       "    <tr>\n",
       "      <th>5</th>\n",
       "      <td>Valiant</td>\n",
       "      <td>2.76</td>\n",
       "      <td>3.460</td>\n",
       "      <td>20.22</td>\n",
       "    </tr>\n",
       "    <tr>\n",
       "      <th>6</th>\n",
       "      <td>Duster 360</td>\n",
       "      <td>3.21</td>\n",
       "      <td>3.570</td>\n",
       "      <td>15.84</td>\n",
       "    </tr>\n",
       "    <tr>\n",
       "      <th>7</th>\n",
       "      <td>Merc 240D</td>\n",
       "      <td>3.69</td>\n",
       "      <td>3.190</td>\n",
       "      <td>20.00</td>\n",
       "    </tr>\n",
       "    <tr>\n",
       "      <th>8</th>\n",
       "      <td>Merc 230</td>\n",
       "      <td>3.92</td>\n",
       "      <td>3.150</td>\n",
       "      <td>22.90</td>\n",
       "    </tr>\n",
       "    <tr>\n",
       "      <th>9</th>\n",
       "      <td>Merc 280</td>\n",
       "      <td>3.92</td>\n",
       "      <td>3.440</td>\n",
       "      <td>18.30</td>\n",
       "    </tr>\n",
       "  </tbody>\n",
       "</table>\n",
       "</div>"
      ],
      "text/plain": [
       "          Unnamed: 0  Points  Score  Weigh\n",
       "0          Mazda RX4    3.90  2.620  16.46\n",
       "1      Mazda RX4 Wag    3.90  2.875  17.02\n",
       "2         Datsun 710    3.85  2.320  18.61\n",
       "3     Hornet 4 Drive    3.08  3.215  19.44\n",
       "4  Hornet Sportabout    3.15  3.440  17.02\n",
       "5            Valiant    2.76  3.460  20.22\n",
       "6         Duster 360    3.21  3.570  15.84\n",
       "7          Merc 240D    3.69  3.190  20.00\n",
       "8           Merc 230    3.92  3.150  22.90\n",
       "9           Merc 280    3.92  3.440  18.30"
      ]
     },
     "execution_count": 2,
     "metadata": {},
     "output_type": "execute_result"
    }
   ],
   "source": [
    "df = pd.read_csv('Q7.csv')\n",
    "df.head(10)"
   ]
  },
  {
   "cell_type": "code",
   "execution_count": 3,
   "id": "f7381428",
   "metadata": {},
   "outputs": [
    {
     "data": {
      "text/html": [
       "<div>\n",
       "<style scoped>\n",
       "    .dataframe tbody tr th:only-of-type {\n",
       "        vertical-align: middle;\n",
       "    }\n",
       "\n",
       "    .dataframe tbody tr th {\n",
       "        vertical-align: top;\n",
       "    }\n",
       "\n",
       "    .dataframe thead th {\n",
       "        text-align: right;\n",
       "    }\n",
       "</style>\n",
       "<table border=\"1\" class=\"dataframe\">\n",
       "  <thead>\n",
       "    <tr style=\"text-align: right;\">\n",
       "      <th></th>\n",
       "      <th>Points</th>\n",
       "      <th>Score</th>\n",
       "      <th>Weigh</th>\n",
       "    </tr>\n",
       "  </thead>\n",
       "  <tbody>\n",
       "    <tr>\n",
       "      <th>count</th>\n",
       "      <td>32.000000</td>\n",
       "      <td>32.000000</td>\n",
       "      <td>32.000000</td>\n",
       "    </tr>\n",
       "    <tr>\n",
       "      <th>mean</th>\n",
       "      <td>3.596563</td>\n",
       "      <td>3.217250</td>\n",
       "      <td>17.848750</td>\n",
       "    </tr>\n",
       "    <tr>\n",
       "      <th>std</th>\n",
       "      <td>0.534679</td>\n",
       "      <td>0.978457</td>\n",
       "      <td>1.786943</td>\n",
       "    </tr>\n",
       "    <tr>\n",
       "      <th>min</th>\n",
       "      <td>2.760000</td>\n",
       "      <td>1.513000</td>\n",
       "      <td>14.500000</td>\n",
       "    </tr>\n",
       "    <tr>\n",
       "      <th>25%</th>\n",
       "      <td>3.080000</td>\n",
       "      <td>2.581250</td>\n",
       "      <td>16.892500</td>\n",
       "    </tr>\n",
       "    <tr>\n",
       "      <th>50%</th>\n",
       "      <td>3.695000</td>\n",
       "      <td>3.325000</td>\n",
       "      <td>17.710000</td>\n",
       "    </tr>\n",
       "    <tr>\n",
       "      <th>75%</th>\n",
       "      <td>3.920000</td>\n",
       "      <td>3.610000</td>\n",
       "      <td>18.900000</td>\n",
       "    </tr>\n",
       "    <tr>\n",
       "      <th>max</th>\n",
       "      <td>4.930000</td>\n",
       "      <td>5.424000</td>\n",
       "      <td>22.900000</td>\n",
       "    </tr>\n",
       "  </tbody>\n",
       "</table>\n",
       "</div>"
      ],
      "text/plain": [
       "          Points      Score      Weigh\n",
       "count  32.000000  32.000000  32.000000\n",
       "mean    3.596563   3.217250  17.848750\n",
       "std     0.534679   0.978457   1.786943\n",
       "min     2.760000   1.513000  14.500000\n",
       "25%     3.080000   2.581250  16.892500\n",
       "50%     3.695000   3.325000  17.710000\n",
       "75%     3.920000   3.610000  18.900000\n",
       "max     4.930000   5.424000  22.900000"
      ]
     },
     "execution_count": 3,
     "metadata": {},
     "output_type": "execute_result"
    }
   ],
   "source": [
    "df.describe()"
   ]
  },
  {
   "cell_type": "code",
   "execution_count": 4,
   "id": "59b532e0",
   "metadata": {},
   "outputs": [
    {
     "data": {
      "text/plain": [
       "3.5965625000000006"
      ]
     },
     "execution_count": 4,
     "metadata": {},
     "output_type": "execute_result"
    }
   ],
   "source": [
    "mean_of_points = np.mean(df[\"Points\"])\n",
    "mean_of_points"
   ]
  },
  {
   "cell_type": "code",
   "execution_count": 5,
   "id": "39ce97d7",
   "metadata": {},
   "outputs": [
    {
     "data": {
      "text/plain": [
       "(2.17,\n",
       " 3.6950000000000003,\n",
       " 0.27694755859375003,\n",
       " ModeResult(mode=array([3.07]), count=array([3])))"
      ]
     },
     "execution_count": 5,
     "metadata": {},
     "output_type": "execute_result"
    }
   ],
   "source": [
    "range_of_Points = np.max(df[\"Points\"]) - np.min(df[\"Points\"])\n",
    "point_var = np.var(df[\"Points\"])\n",
    "point_median = np.median(df[\"Points\"])\n",
    "point_mode = stats.mode(df[\"Points\"])\n",
    "range_of_Points,point_median,point_var,point_mode"
   ]
  },
  {
   "cell_type": "code",
   "execution_count": 6,
   "id": "51de0437",
   "metadata": {},
   "outputs": [
    {
     "data": {
      "text/plain": [
       "(3.9110000000000005,\n",
       " 3.325,\n",
       " 0.9274608750000002,\n",
       " ModeResult(mode=array([3.44]), count=array([3])))"
      ]
     },
     "execution_count": 6,
     "metadata": {},
     "output_type": "execute_result"
    }
   ],
   "source": [
    "range_of_score = np.max(df[\"Score\"]) - np.min(df[\"Score\"])\n",
    "score_var = np.var(df[\"Score\"])\n",
    "score_median = np.median(df[\"Score\"])\n",
    "score_mode = stats.mode(df[\"Score\"])\n",
    "range_of_score,score_median,score_var,score_mode"
   ]
  },
  {
   "cell_type": "code",
   "execution_count": 7,
   "id": "5d626b83",
   "metadata": {},
   "outputs": [
    {
     "data": {
      "text/plain": [
       "(8.399999999999999,\n",
       " 17.71,\n",
       " 3.0933796874999997,\n",
       " ModeResult(mode=array([17.02]), count=array([2])))"
      ]
     },
     "execution_count": 7,
     "metadata": {},
     "output_type": "execute_result"
    }
   ],
   "source": [
    "range_of_weigh = np.max(df[\"Weigh\"]) - np.min(df[\"Weigh\"])\n",
    "weigh_var = np.var(df[\"Weigh\"])\n",
    "weigh_median = np.median(df[\"Weigh\"])\n",
    "weigh_mode = stats.mode(df[\"Weigh\"])\n",
    "range_of_weigh,weigh_median,weigh_var,weigh_mode"
   ]
  },
  {
   "cell_type": "code",
   "execution_count": 8,
   "id": "13382580",
   "metadata": {},
   "outputs": [
    {
     "data": {
      "text/plain": [
       "array([[ 1.        , -0.17471588],\n",
       "       [-0.17471588,  1.        ]])"
      ]
     },
     "execution_count": 8,
     "metadata": {},
     "output_type": "execute_result"
    }
   ],
   "source": [
    "np.corrcoef(df[\"Score\"],df[\"Weigh\"])"
   ]
  },
  {
   "cell_type": "code",
   "execution_count": 9,
   "id": "e004f721",
   "metadata": {},
   "outputs": [
    {
     "data": {
      "text/plain": [
       "array([[ 1.        , -0.71244065],\n",
       "       [-0.71244065,  1.        ]])"
      ]
     },
     "execution_count": 9,
     "metadata": {},
     "output_type": "execute_result"
    }
   ],
   "source": [
    "np.corrcoef(df[\"Score\"],df[\"Points\"])"
   ]
  },
  {
   "cell_type": "code",
   "execution_count": 10,
   "id": "baccefd4",
   "metadata": {},
   "outputs": [
    {
     "data": {
      "text/plain": [
       "array([[1.        , 0.09120476],\n",
       "       [0.09120476, 1.        ]])"
      ]
     },
     "execution_count": 10,
     "metadata": {},
     "output_type": "execute_result"
    }
   ],
   "source": [
    "np.corrcoef(df[\"Weigh\"],df[\"Points\"])"
   ]
  },
  {
   "cell_type": "markdown",
   "id": "28d10041",
   "metadata": {},
   "source": [
    "# Q8\n"
   ]
  },
  {
   "cell_type": "code",
   "execution_count": 11,
   "id": "91f023e3",
   "metadata": {},
   "outputs": [
    {
     "name": "stdout",
     "output_type": "stream",
     "text": [
      "Expected of the Weight of that patient selected randomly = 145.33333333333331\n"
     ]
    }
   ],
   "source": [
    "weights = (108, 110, 123, 134, 135, 145, 167, 187, 199)\n",
    "probability_of_single_event = 1/len(weights)\n",
    "a = 0\n",
    "for w in weights:\n",
    "    w = w * probability_of_single_event\n",
    "    a += w\n",
    "print(\"Expected of the Weight of that patient selected randomly =\",a)"
   ]
  },
  {
   "cell_type": "markdown",
   "id": "f21b0936",
   "metadata": {},
   "source": [
    "# Q9"
   ]
  },
  {
   "cell_type": "code",
   "execution_count": 12,
   "id": "02989330",
   "metadata": {},
   "outputs": [],
   "source": [
    "q9_a_df = pd.read_csv('C:\\\\Users\\\\Lance Machado\\\\Downloads\\\\Q9_a.csv')\n",
    "q9_b_df = pd.read_csv('C:\\\\Users\\\\Lance Machado\\\\Downloads\\\\Q9_b.csv')"
   ]
  },
  {
   "cell_type": "code",
   "execution_count": 13,
   "id": "1c2708e0",
   "metadata": {},
   "outputs": [
    {
     "data": {
      "text/plain": [
       "(   Unnamed: 0          SP         WT\n",
       " 0           1  104.185353  28.762059\n",
       " 1           2  105.461264  30.466833\n",
       " 2           3  105.461264  30.193597\n",
       " 3           4  113.461264  30.632114\n",
       " 4           5  104.461264  29.889149,\n",
       "    Index  speed  dist\n",
       " 0      1      4     2\n",
       " 1      2      4    10\n",
       " 2      3      7     4\n",
       " 3      4      7    22\n",
       " 4      5      8    16)"
      ]
     },
     "execution_count": 13,
     "metadata": {},
     "output_type": "execute_result"
    }
   ],
   "source": [
    "q9_b_df.head(5),q9_a_df.head(5)"
   ]
  },
  {
   "cell_type": "code",
   "execution_count": 14,
   "id": "8ae37703",
   "metadata": {},
   "outputs": [
    {
     "name": "stdout",
     "output_type": "stream",
     "text": [
      "0.7824835173114966 -0.11395477012828319\n"
     ]
    }
   ],
   "source": [
    "a_skewness_speed = stats.skew(q9_a_df[\"speed\"])\n",
    "a_skewness_distance = stats.skew(q9_a_df[\"dist\"])\n",
    "print(a_skewness_distance,a_skewness_speed)"
   ]
  },
  {
   "cell_type": "code",
   "execution_count": 15,
   "id": "53d5ce86",
   "metadata": {},
   "outputs": [
    {
     "name": "stdout",
     "output_type": "stream",
     "text": [
      "0.24801865717051808 -0.5771474239437371\n"
     ]
    }
   ],
   "source": [
    "a_kurtosis_speed = stats.kurtosis(q9_a_df[\"speed\"])\n",
    "a_kurtosis_distance = stats.kurtosis(q9_a_df[\"dist\"])\n",
    "print(a_kurtosis_distance,a_kurtosis_speed)"
   ]
  },
  {
   "cell_type": "code",
   "execution_count": 16,
   "id": "36b44faf",
   "metadata": {},
   "outputs": [
    {
     "name": "stdout",
     "output_type": "stream",
     "text": [
      "-0.6033099322115126 1.5814536794423764\n"
     ]
    }
   ],
   "source": [
    "b_skewness_sp = stats.skew(q9_b_df[\"SP\"])\n",
    "b_skewness_wt = stats.skew(q9_b_df[\"WT\"])\n",
    "print(b_skewness_wt,b_skewness_sp)"
   ]
  },
  {
   "cell_type": "code",
   "execution_count": 17,
   "id": "5b289765",
   "metadata": {},
   "outputs": [
    {
     "name": "stdout",
     "output_type": "stream",
     "text": [
      "0.8194658792266849 2.7235214865269244\n"
     ]
    }
   ],
   "source": [
    "b_kurtosis_sp = stats.kurtosis(q9_b_df[\"SP\"])\n",
    "b_kurtosis_wt = stats.kurtosis(q9_b_df[\"WT\"])\n",
    "print(b_kurtosis_wt,b_kurtosis_sp)"
   ]
  },
  {
   "cell_type": "markdown",
   "id": "2b16b3a9",
   "metadata": {},
   "source": [
    "# Q11"
   ]
  },
  {
   "cell_type": "code",
   "execution_count": 18,
   "id": "7755f156",
   "metadata": {},
   "outputs": [],
   "source": [
    "m = 200\n",
    "sd = 30\n",
    "n = 2000"
   ]
  },
  {
   "cell_type": "code",
   "execution_count": 19,
   "id": "2b0528f5",
   "metadata": {},
   "outputs": [],
   "source": [
    "\n",
    "def confidence_interval_cal(x,n):\n",
    "    t_sc = np.abs(stats.t.ppf((1-x)/2,df=n-1))\n",
    "    intv = (m-sd*t_sc/np.sqrt(n), m+sd*t_sc/np.sqrt(n))\n",
    "    return intv"
   ]
  },
  {
   "cell_type": "code",
   "execution_count": 20,
   "id": "7d0319f1",
   "metadata": {},
   "outputs": [
    {
     "data": {
      "text/plain": [
       "(198.7376089443071, 201.2623910556929)"
      ]
     },
     "execution_count": 20,
     "metadata": {},
     "output_type": "execute_result"
    }
   ],
   "source": [
    "# 94% CONFIDENCE INTERVAL\n",
    "confidence_interval_cal(0.94,2000)"
   ]
  },
  {
   "cell_type": "code",
   "execution_count": 21,
   "id": "6970f3a8",
   "metadata": {},
   "outputs": [
    {
     "data": {
      "text/plain": [
       "(198.4381860483216, 201.5618139516784)"
      ]
     },
     "execution_count": 21,
     "metadata": {},
     "output_type": "execute_result"
    }
   ],
   "source": [
    "# 98% CONFIDENCE INTERVAL\n",
    "confidence_interval_cal(0.98,2000)"
   ]
  },
  {
   "cell_type": "code",
   "execution_count": 22,
   "id": "15272ea7",
   "metadata": {},
   "outputs": [
    {
     "data": {
      "text/plain": [
       "(198.6214037429732, 201.3785962570268)"
      ]
     },
     "execution_count": 22,
     "metadata": {},
     "output_type": "execute_result"
    }
   ],
   "source": [
    "# 96% CONFIDENCE INTERVAL\n",
    "confidence_interval_cal(0.96,2000)"
   ]
  },
  {
   "cell_type": "markdown",
   "id": "0925157c",
   "metadata": {},
   "source": [
    "# Q12"
   ]
  },
  {
   "cell_type": "code",
   "execution_count": 23,
   "id": "511b3053",
   "metadata": {},
   "outputs": [
    {
     "data": {
      "text/html": [
       "<div>\n",
       "<style scoped>\n",
       "    .dataframe tbody tr th:only-of-type {\n",
       "        vertical-align: middle;\n",
       "    }\n",
       "\n",
       "    .dataframe tbody tr th {\n",
       "        vertical-align: top;\n",
       "    }\n",
       "\n",
       "    .dataframe thead th {\n",
       "        text-align: right;\n",
       "    }\n",
       "</style>\n",
       "<table border=\"1\" class=\"dataframe\">\n",
       "  <thead>\n",
       "    <tr style=\"text-align: right;\">\n",
       "      <th></th>\n",
       "      <th>0</th>\n",
       "    </tr>\n",
       "  </thead>\n",
       "  <tbody>\n",
       "    <tr>\n",
       "      <th>count</th>\n",
       "      <td>18.000000</td>\n",
       "    </tr>\n",
       "    <tr>\n",
       "      <th>mean</th>\n",
       "      <td>41.000000</td>\n",
       "    </tr>\n",
       "    <tr>\n",
       "      <th>std</th>\n",
       "      <td>5.052664</td>\n",
       "    </tr>\n",
       "    <tr>\n",
       "      <th>min</th>\n",
       "      <td>34.000000</td>\n",
       "    </tr>\n",
       "    <tr>\n",
       "      <th>25%</th>\n",
       "      <td>38.250000</td>\n",
       "    </tr>\n",
       "    <tr>\n",
       "      <th>50%</th>\n",
       "      <td>40.500000</td>\n",
       "    </tr>\n",
       "    <tr>\n",
       "      <th>75%</th>\n",
       "      <td>41.750000</td>\n",
       "    </tr>\n",
       "    <tr>\n",
       "      <th>max</th>\n",
       "      <td>56.000000</td>\n",
       "    </tr>\n",
       "  </tbody>\n",
       "</table>\n",
       "</div>"
      ],
      "text/plain": [
       "               0\n",
       "count  18.000000\n",
       "mean   41.000000\n",
       "std     5.052664\n",
       "min    34.000000\n",
       "25%    38.250000\n",
       "50%    40.500000\n",
       "75%    41.750000\n",
       "max    56.000000"
      ]
     },
     "execution_count": 23,
     "metadata": {},
     "output_type": "execute_result"
    }
   ],
   "source": [
    "stud_scores = ([34,36,36,38,38,39,39,40,40,41,41,41,41,42,42,45,49,56])\n",
    "stud_df = pd.DataFrame(data=stud_scores)\n",
    "stud_df.describe()"
   ]
  },
  {
   "cell_type": "code",
   "execution_count": 24,
   "id": "51ffe329",
   "metadata": {},
   "outputs": [
    {
     "name": "stdout",
     "output_type": "stream",
     "text": [
      "40.5 0    24.111111\n",
      "dtype: float64\n"
     ]
    }
   ],
   "source": [
    "median = np.median(stud_df)\n",
    "variance = np.var(stud_df)\n",
    "print(median,variance)"
   ]
  },
  {
   "cell_type": "markdown",
   "id": "5a58095e",
   "metadata": {},
   "source": [
    "# Q20"
   ]
  },
  {
   "cell_type": "code",
   "execution_count": 25,
   "id": "fc37f9ce",
   "metadata": {},
   "outputs": [
    {
     "data": {
      "text/html": [
       "<div>\n",
       "<style scoped>\n",
       "    .dataframe tbody tr th:only-of-type {\n",
       "        vertical-align: middle;\n",
       "    }\n",
       "\n",
       "    .dataframe tbody tr th {\n",
       "        vertical-align: top;\n",
       "    }\n",
       "\n",
       "    .dataframe thead th {\n",
       "        text-align: right;\n",
       "    }\n",
       "</style>\n",
       "<table border=\"1\" class=\"dataframe\">\n",
       "  <thead>\n",
       "    <tr style=\"text-align: right;\">\n",
       "      <th></th>\n",
       "      <th>HP</th>\n",
       "      <th>MPG</th>\n",
       "      <th>VOL</th>\n",
       "      <th>SP</th>\n",
       "      <th>WT</th>\n",
       "    </tr>\n",
       "  </thead>\n",
       "  <tbody>\n",
       "    <tr>\n",
       "      <th>0</th>\n",
       "      <td>49</td>\n",
       "      <td>53.700681</td>\n",
       "      <td>89</td>\n",
       "      <td>104.185353</td>\n",
       "      <td>28.762059</td>\n",
       "    </tr>\n",
       "    <tr>\n",
       "      <th>1</th>\n",
       "      <td>55</td>\n",
       "      <td>50.013401</td>\n",
       "      <td>92</td>\n",
       "      <td>105.461264</td>\n",
       "      <td>30.466833</td>\n",
       "    </tr>\n",
       "    <tr>\n",
       "      <th>2</th>\n",
       "      <td>55</td>\n",
       "      <td>50.013401</td>\n",
       "      <td>92</td>\n",
       "      <td>105.461264</td>\n",
       "      <td>30.193597</td>\n",
       "    </tr>\n",
       "    <tr>\n",
       "      <th>3</th>\n",
       "      <td>70</td>\n",
       "      <td>45.696322</td>\n",
       "      <td>92</td>\n",
       "      <td>113.461264</td>\n",
       "      <td>30.632114</td>\n",
       "    </tr>\n",
       "    <tr>\n",
       "      <th>4</th>\n",
       "      <td>53</td>\n",
       "      <td>50.504232</td>\n",
       "      <td>92</td>\n",
       "      <td>104.461264</td>\n",
       "      <td>29.889149</td>\n",
       "    </tr>\n",
       "  </tbody>\n",
       "</table>\n",
       "</div>"
      ],
      "text/plain": [
       "   HP        MPG  VOL          SP         WT\n",
       "0  49  53.700681   89  104.185353  28.762059\n",
       "1  55  50.013401   92  105.461264  30.466833\n",
       "2  55  50.013401   92  105.461264  30.193597\n",
       "3  70  45.696322   92  113.461264  30.632114\n",
       "4  53  50.504232   92  104.461264  29.889149"
      ]
     },
     "execution_count": 25,
     "metadata": {},
     "output_type": "execute_result"
    }
   ],
   "source": [
    "cars_df = pd.read_csv(\"C:\\\\Users\\\\Lance Machado\\\\Downloads\\\\Cars.csv\")\n",
    "cars_df.head(5)"
   ]
  },
  {
   "cell_type": "code",
   "execution_count": 26,
   "id": "74817c04",
   "metadata": {},
   "outputs": [
    {
     "name": "stdout",
     "output_type": "stream",
     "text": [
      "<class 'pandas.core.frame.DataFrame'>\n",
      "Int64Index: 33 entries, 0 to 65\n",
      "Data columns (total 5 columns):\n",
      " #   Column  Non-Null Count  Dtype  \n",
      "---  ------  --------------  -----  \n",
      " 0   HP      33 non-null     int64  \n",
      " 1   MPG     33 non-null     float64\n",
      " 2   VOL     33 non-null     int64  \n",
      " 3   SP      33 non-null     float64\n",
      " 4   WT      33 non-null     float64\n",
      "dtypes: float64(3), int64(2)\n",
      "memory usage: 1.5 KB\n"
     ]
    }
   ],
   "source": [
    "mpg_grt_38 = cars_df[\"MPG\"]>38\n",
    "cars_df[mpg_grt_38].info()"
   ]
  },
  {
   "cell_type": "code",
   "execution_count": 27,
   "id": "57b802cb",
   "metadata": {},
   "outputs": [
    {
     "name": "stdout",
     "output_type": "stream",
     "text": [
      "<class 'pandas.core.frame.DataFrame'>\n",
      "RangeIndex: 81 entries, 0 to 80\n",
      "Data columns (total 5 columns):\n",
      " #   Column  Non-Null Count  Dtype  \n",
      "---  ------  --------------  -----  \n",
      " 0   HP      81 non-null     int64  \n",
      " 1   MPG     81 non-null     float64\n",
      " 2   VOL     81 non-null     int64  \n",
      " 3   SP      81 non-null     float64\n",
      " 4   WT      81 non-null     float64\n",
      "dtypes: float64(3), int64(2)\n",
      "memory usage: 3.3 KB\n"
     ]
    }
   ],
   "source": [
    "cars_df.info()"
   ]
  },
  {
   "cell_type": "code",
   "execution_count": 28,
   "id": "2bd202c7",
   "metadata": {},
   "outputs": [
    {
     "data": {
      "text/plain": [
       "0.4074074074074074"
      ]
     },
     "execution_count": 28,
     "metadata": {},
     "output_type": "execute_result"
    }
   ],
   "source": [
    "33/81"
   ]
  },
  {
   "cell_type": "code",
   "execution_count": 29,
   "id": "6378ebc5",
   "metadata": {},
   "outputs": [
    {
     "data": {
      "text/plain": [
       "True     61\n",
       "False    20\n",
       "Name: MPG, dtype: int64"
      ]
     },
     "execution_count": 29,
     "metadata": {},
     "output_type": "execute_result"
    }
   ],
   "source": [
    "mpg_less_40 = cars_df[\"MPG\"]<40\n",
    "mpg_less_40.value_counts()"
   ]
  },
  {
   "cell_type": "code",
   "execution_count": 30,
   "id": "12264a60",
   "metadata": {},
   "outputs": [
    {
     "data": {
      "text/plain": [
       "0.7530864197530864"
      ]
     },
     "execution_count": 30,
     "metadata": {},
     "output_type": "execute_result"
    }
   ],
   "source": [
    "61/81"
   ]
  },
  {
   "cell_type": "code",
   "execution_count": 31,
   "id": "4ae7b2f3",
   "metadata": {},
   "outputs": [
    {
     "data": {
      "text/plain": [
       "True     69\n",
       "False    12\n",
       "Name: MPG, dtype: int64"
      ]
     },
     "execution_count": 31,
     "metadata": {},
     "output_type": "execute_result"
    }
   ],
   "source": [
    "mpg_20_50 = (cars_df[\"MPG\"]>20) & (cars_df[\"MPG\"]<50)\n",
    "mpg_20_50.value_counts()"
   ]
  },
  {
   "cell_type": "code",
   "execution_count": 32,
   "id": "2e687b1a",
   "metadata": {},
   "outputs": [
    {
     "data": {
      "text/plain": [
       "0.8518518518518519"
      ]
     },
     "execution_count": 32,
     "metadata": {},
     "output_type": "execute_result"
    }
   ],
   "source": [
    "69/81"
   ]
  },
  {
   "cell_type": "markdown",
   "id": "347e283d",
   "metadata": {},
   "source": [
    "# Q21"
   ]
  },
  {
   "cell_type": "code",
   "execution_count": 33,
   "id": "3d74a271",
   "metadata": {},
   "outputs": [
    {
     "data": {
      "text/plain": [
       "ShapiroResult(statistic=0.9779686331748962, pvalue=0.17639249563217163)"
      ]
     },
     "execution_count": 33,
     "metadata": {},
     "output_type": "execute_result"
    }
   ],
   "source": [
    "stats.shapiro(cars_df[\"MPG\"])\n",
    "# Since p-value is greater than 0.05 null hypothesis cannot be rejected, hence we can say that data is normally distibuted"
   ]
  },
  {
   "cell_type": "code",
   "execution_count": 34,
   "id": "53cdb613",
   "metadata": {},
   "outputs": [
    {
     "data": {
      "text/plain": [
       "<seaborn.axisgrid.FacetGrid at 0x22ff88f5fa0>"
      ]
     },
     "execution_count": 34,
     "metadata": {},
     "output_type": "execute_result"
    },
    {
     "data": {
      "image/png": "[encoded data removed]",
      "text/plain": [
       "<Figure size 360x360 with 1 Axes>"
      ]
     },
     "metadata": {
      "needs_background": "light"
     },
     "output_type": "display_data"
    }
   ],
   "source": [
    "sns.displot(cars_df, x=\"MPG\")"
   ]
  },
  {
   "cell_type": "code",
   "execution_count": 35,
   "id": "4c044fae",
   "metadata": {},
   "outputs": [
    {
     "data": {
      "text/html": [
       "<div>\n",
       "<style scoped>\n",
       "    .dataframe tbody tr th:only-of-type {\n",
       "        vertical-align: middle;\n",
       "    }\n",
       "\n",
       "    .dataframe tbody tr th {\n",
       "        vertical-align: top;\n",
       "    }\n",
       "\n",
       "    .dataframe thead th {\n",
       "        text-align: right;\n",
       "    }\n",
       "</style>\n",
       "<table border=\"1\" class=\"dataframe\">\n",
       "  <thead>\n",
       "    <tr style=\"text-align: right;\">\n",
       "      <th></th>\n",
       "      <th>Waist</th>\n",
       "      <th>AT</th>\n",
       "    </tr>\n",
       "  </thead>\n",
       "  <tbody>\n",
       "    <tr>\n",
       "      <th>0</th>\n",
       "      <td>74.75</td>\n",
       "      <td>25.72</td>\n",
       "    </tr>\n",
       "    <tr>\n",
       "      <th>1</th>\n",
       "      <td>72.60</td>\n",
       "      <td>25.89</td>\n",
       "    </tr>\n",
       "    <tr>\n",
       "      <th>2</th>\n",
       "      <td>81.80</td>\n",
       "      <td>42.60</td>\n",
       "    </tr>\n",
       "    <tr>\n",
       "      <th>3</th>\n",
       "      <td>83.95</td>\n",
       "      <td>42.80</td>\n",
       "    </tr>\n",
       "    <tr>\n",
       "      <th>4</th>\n",
       "      <td>74.65</td>\n",
       "      <td>29.84</td>\n",
       "    </tr>\n",
       "  </tbody>\n",
       "</table>\n",
       "</div>"
      ],
      "text/plain": [
       "   Waist     AT\n",
       "0  74.75  25.72\n",
       "1  72.60  25.89\n",
       "2  81.80  42.60\n",
       "3  83.95  42.80\n",
       "4  74.65  29.84"
      ]
     },
     "execution_count": 35,
     "metadata": {},
     "output_type": "execute_result"
    }
   ],
   "source": [
    "wc_at_df = pd.read_csv(\"C:\\\\Users\\\\Lance Machado\\\\Downloads\\\\wc-at.csv\")\n",
    "wc_at_df.head(5)"
   ]
  },
  {
   "cell_type": "code",
   "execution_count": 36,
   "id": "7f14ad9e",
   "metadata": {},
   "outputs": [
    {
     "data": {
      "text/plain": [
       "ShapiroResult(statistic=0.9558578133583069, pvalue=0.001170447445474565)"
      ]
     },
     "execution_count": 36,
     "metadata": {},
     "output_type": "execute_result"
    }
   ],
   "source": [
    "stats.shapiro(wc_at_df[\"Waist\"])\n",
    "# Since p-value is less than 0.05 null hypothesis is rejected, hence we can say that data is not normally distibuted"
   ]
  },
  {
   "cell_type": "code",
   "execution_count": 37,
   "id": "b94389d9",
   "metadata": {},
   "outputs": [
    {
     "data": {
      "text/plain": [
       "ShapiroResult(statistic=0.9523370265960693, pvalue=0.0006539996829815209)"
      ]
     },
     "execution_count": 37,
     "metadata": {},
     "output_type": "execute_result"
    }
   ],
   "source": [
    "stats.shapiro(wc_at_df[\"AT\"])\n",
    "# Since p-value is less than 0.05 null hypothesis is rejected, hence we can say that data is not normally distibuted"
   ]
  },
  {
   "cell_type": "code",
   "execution_count": 38,
   "id": "6c3c9da1",
   "metadata": {},
   "outputs": [
    {
     "data": {
      "text/plain": [
       "<seaborn.axisgrid.FacetGrid at 0x22ff8971610>"
      ]
     },
     "execution_count": 38,
     "metadata": {},
     "output_type": "execute_result"
    },
    {
     "data": {
      "image/png": "[encoded data removed]",
      "text/plain": [
       "<Figure size 360x360 with 1 Axes>"
      ]
     },
     "metadata": {
      "needs_background": "light"
     },
     "output_type": "display_data"
    },
    {
     "data": {
      "image/png": "[encoded data removed]",
      "text/plain": [
       "<Figure size 360x360 with 1 Axes>"
      ]
     },
     "metadata": {
      "needs_background": "light"
     },
     "output_type": "display_data"
    }
   ],
   "source": [
    "sns.displot(wc_at_df, x=\"Waist\")\n",
    "# We can see that the distribution is bimodal \n",
    "sns.displot(wc_at_df, x=\"AT\")\n",
    "# We can see that the data is extremly right skewed. "
   ]
  },
  {
   "cell_type": "markdown",
   "id": "61bcc024",
   "metadata": {},
   "source": [
    "# Q22"
   ]
  },
  {
   "cell_type": "code",
   "execution_count": 39,
   "id": "b7b4b266",
   "metadata": {},
   "outputs": [
    {
     "data": {
      "text/plain": [
       "1.6448536269514722"
      ]
     },
     "execution_count": 39,
     "metadata": {},
     "output_type": "execute_result"
    }
   ],
   "source": [
    "# 90% CONFIDENCE INTERVAL\n",
    "stats.norm.ppf(.95)"
   ]
  },
  {
   "cell_type": "code",
   "execution_count": 40,
   "id": "2cc43f06",
   "metadata": {},
   "outputs": [
    {
     "data": {
      "text/plain": [
       "1.8807936081512509"
      ]
     },
     "execution_count": 40,
     "metadata": {},
     "output_type": "execute_result"
    }
   ],
   "source": [
    "# 94% CONFIDENCE INTERVAL\n",
    "stats.norm.ppf(.97)"
   ]
  },
  {
   "cell_type": "code",
   "execution_count": 41,
   "id": "d2753d20",
   "metadata": {},
   "outputs": [
    {
     "data": {
      "text/plain": [
       "0.8416212335729143"
      ]
     },
     "execution_count": 41,
     "metadata": {},
     "output_type": "execute_result"
    }
   ],
   "source": [
    "# 60% CONFIDENCE INTERVAL\n",
    "stats.norm.ppf(.80)"
   ]
  },
  {
   "cell_type": "markdown",
   "id": "93fac160",
   "metadata": {},
   "source": [
    "# Q23"
   ]
  },
  {
   "cell_type": "code",
   "execution_count": 42,
   "id": "44e14dc6",
   "metadata": {},
   "outputs": [
    {
     "data": {
      "text/plain": [
       "(-2.0638985616280205, 2.0638985616280205)"
      ]
     },
     "execution_count": 42,
     "metadata": {},
     "output_type": "execute_result"
    }
   ],
   "source": [
    "# 90% CONFIDENCE INTERVAL\n",
    "stats.t.interval(0.95,df=24)"
   ]
  },
  {
   "cell_type": "code",
   "execution_count": 43,
   "id": "c4a3b7bf",
   "metadata": {},
   "outputs": [
    {
     "data": {
      "text/plain": [
       "(-2.306913404870355, 2.306913404870355)"
      ]
     },
     "execution_count": 43,
     "metadata": {},
     "output_type": "execute_result"
    }
   ],
   "source": [
    "# 94% CONFIDENCE INTERVAL\n",
    "stats.t.interval(0.97,df=24)"
   ]
  },
  {
   "cell_type": "code",
   "execution_count": 44,
   "id": "83bb8218",
   "metadata": {},
   "outputs": [
    {
     "data": {
      "text/plain": [
       "(-1.317835931859603, 1.317835931859603)"
      ]
     },
     "execution_count": 44,
     "metadata": {},
     "output_type": "execute_result"
    }
   ],
   "source": [
    "# 60% CONFIDENCE INTERVAL\n",
    "stats.t.interval(0.80,df=24)"
   ]
  },
  {
   "cell_type": "markdown",
   "id": "66ae6a28",
   "metadata": {},
   "source": [
    "# Q24"
   ]
  },
  {
   "cell_type": "code",
   "execution_count": 45,
   "id": "e5cff939",
   "metadata": {},
   "outputs": [],
   "source": [
    "population_mean = 270 \n",
    "sample_mean = 260 \n",
    "sample_std = 90 \n",
    "n = 18 "
   ]
  },
  {
   "cell_type": "code",
   "execution_count": 46,
   "id": "1db7ecdf",
   "metadata": {},
   "outputs": [],
   "source": [
    "mean_diff = sample_mean - population_mean\n",
    "std_err = sample_std / np.sqrt(n)\n",
    "df = n - 1"
   ]
  },
  {
   "cell_type": "code",
   "execution_count": 47,
   "id": "8182c28e",
   "metadata": {},
   "outputs": [
    {
     "data": {
      "text/plain": [
       "-0.4714045207910317"
      ]
     },
     "execution_count": 47,
     "metadata": {},
     "output_type": "execute_result"
    }
   ],
   "source": [
    "t_stat = mean_diff/std_err\n",
    "t_stat"
   ]
  },
  {
   "cell_type": "code",
   "execution_count": 48,
   "id": "1b938d03",
   "metadata": {},
   "outputs": [
    {
     "data": {
      "text/plain": [
       "0.32167253567098353"
      ]
     },
     "execution_count": 48,
     "metadata": {},
     "output_type": "execute_result"
    }
   ],
   "source": [
    "p = (1.0 - stats.t.cdf(abs(t_stat), df))\n",
    "p"
   ]
  },
  {
   "cell_type": "code",
   "execution_count": 49,
   "id": "7b039918",
   "metadata": {},
   "outputs": [],
   "source": [
    "# The probability that t < - 0.471 with 17 degrees of freedom assuming the population mean is true. \n",
    "# The t-value is less than the t-value obtained With 17 degrees of freedom and a t score of - 0.47140.\n",
    "# The probability of the bulbs lasting less than 260 days is 0.32167."
   ]
  },
  {
   "cell_type": "code",
   "execution_count": null,
   "id": "58d29839",
   "metadata": {},
   "outputs": [],
   "source": []
  }
 ],
 "metadata": {
  "kernelspec": {
   "display_name": "Python 3",
   "language": "python",
   "name": "python3"
  },
  "language_info": {
   "codemirror_mode": {
    "name": "ipython",
    "version": 3
   },
   "file_extension": ".py",
   "mimetype": "text/x-python",
   "name": "python",
   "nbconvert_exporter": "python",
   "pygments_lexer": "ipython3",
   "version": "3.8.8"
  }
 },
 "nbformat": 4,
 "nbformat_minor": 5
}
