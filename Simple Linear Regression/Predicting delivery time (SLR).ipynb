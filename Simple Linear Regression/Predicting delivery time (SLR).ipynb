{
 "cells": [
  {
   "cell_type": "code",
   "execution_count": 1,
   "id": "9b2a15cd",
   "metadata": {},
   "outputs": [],
   "source": [
    "import numpy as np\n",
    "import pandas as pd\n",
    "import matplotlib.pyplot as plt\n",
    "import seaborn as sns\n",
    "from scipy import stats\n",
    "import statsmodels.formula.api as smf"
   ]
  },
  {
   "cell_type": "code",
   "execution_count": 2,
   "id": "218bc6aa",
   "metadata": {},
   "outputs": [
    {
     "name": "stdout",
     "output_type": "stream",
     "text": [
      "<class 'pandas.core.frame.DataFrame'>\n",
      "RangeIndex: 21 entries, 0 to 20\n",
      "Data columns (total 2 columns):\n",
      " #   Column         Non-Null Count  Dtype  \n",
      "---  ------         --------------  -----  \n",
      " 0   Delivery Time  21 non-null     float64\n",
      " 1   Sorting Time   21 non-null     int64  \n",
      "dtypes: float64(1), int64(1)\n",
      "memory usage: 464.0 bytes\n"
     ]
    }
   ],
   "source": [
    "df1 = pd.read_csv(\"delivery_time.csv\")\n",
    "df1.info()\n",
    "\n",
    "# Checking for null vaalues."
   ]
  },
  {
   "cell_type": "code",
   "execution_count": 3,
   "id": "a2800a39",
   "metadata": {},
   "outputs": [
    {
     "data": {
      "text/html": [
       "<div>\n",
       "<style scoped>\n",
       "    .dataframe tbody tr th:only-of-type {\n",
       "        vertical-align: middle;\n",
       "    }\n",
       "\n",
       "    .dataframe tbody tr th {\n",
       "        vertical-align: top;\n",
       "    }\n",
       "\n",
       "    .dataframe thead th {\n",
       "        text-align: right;\n",
       "    }\n",
       "</style>\n",
       "<table border=\"1\" class=\"dataframe\">\n",
       "  <thead>\n",
       "    <tr style=\"text-align: right;\">\n",
       "      <th></th>\n",
       "      <th>Delivery Time</th>\n",
       "      <th>Sorting Time</th>\n",
       "    </tr>\n",
       "  </thead>\n",
       "  <tbody>\n",
       "    <tr>\n",
       "      <th>0</th>\n",
       "      <td>21.00</td>\n",
       "      <td>10</td>\n",
       "    </tr>\n",
       "    <tr>\n",
       "      <th>1</th>\n",
       "      <td>13.50</td>\n",
       "      <td>4</td>\n",
       "    </tr>\n",
       "    <tr>\n",
       "      <th>2</th>\n",
       "      <td>19.75</td>\n",
       "      <td>6</td>\n",
       "    </tr>\n",
       "    <tr>\n",
       "      <th>3</th>\n",
       "      <td>24.00</td>\n",
       "      <td>9</td>\n",
       "    </tr>\n",
       "    <tr>\n",
       "      <th>4</th>\n",
       "      <td>29.00</td>\n",
       "      <td>10</td>\n",
       "    </tr>\n",
       "  </tbody>\n",
       "</table>\n",
       "</div>"
      ],
      "text/plain": [
       "   Delivery Time  Sorting Time\n",
       "0          21.00            10\n",
       "1          13.50             4\n",
       "2          19.75             6\n",
       "3          24.00             9\n",
       "4          29.00            10"
      ]
     },
     "execution_count": 3,
     "metadata": {},
     "output_type": "execute_result"
    }
   ],
   "source": [
    "df1.head()"
   ]
  },
  {
   "cell_type": "code",
   "execution_count": 4,
   "id": "d56c0baf",
   "metadata": {},
   "outputs": [
    {
     "data": {
      "text/plain": [
       "<AxesSubplot:>"
      ]
     },
     "execution_count": 4,
     "metadata": {},
     "output_type": "execute_result"
    },
    {
     "data": {
      "image/png": "[encoded data removed]",
      "text/plain": [
       "<Figure size 432x288 with 1 Axes>"
      ]
     },
     "metadata": {
      "needs_background": "light"
     },
     "output_type": "display_data"
    }
   ],
   "source": [
    "sns.boxplot(data=df1[\"Sorting Time\"])"
   ]
  },
  {
   "cell_type": "markdown",
   "id": "7381b308",
   "metadata": {},
   "source": [
    "### Checking for co-relation. "
   ]
  },
  {
   "cell_type": "code",
   "execution_count": 5,
   "id": "d84a693b",
   "metadata": {},
   "outputs": [
    {
     "data": {
      "text/plain": [
       "<AxesSubplot:>"
      ]
     },
     "execution_count": 5,
     "metadata": {},
     "output_type": "execute_result"
    },
    {
     "data": {
      "image/png": "[encoded data removed]",
      "text/plain": [
       "<Figure size 432x288 with 2 Axes>"
      ]
     },
     "metadata": {
      "needs_background": "light"
     },
     "output_type": "display_data"
    }
   ],
   "source": [
    "sns.heatmap(df1.corr(),annot=True)"
   ]
  },
  {
   "cell_type": "code",
   "execution_count": 6,
   "id": "cf28e7ae",
   "metadata": {},
   "outputs": [
    {
     "data": {
      "text/plain": [
       "<AxesSubplot:xlabel='Delivery Time', ylabel='Sorting Time'>"
      ]
     },
     "execution_count": 6,
     "metadata": {},
     "output_type": "execute_result"
    },
    {
     "data": {
      "image/png": "[encoded data removed]",
      "text/plain": [
       "<Figure size 432x288 with 1 Axes>"
      ]
     },
     "metadata": {
      "needs_background": "light"
     },
     "output_type": "display_data"
    }
   ],
   "source": [
    "sns.scatterplot(x=\"Delivery Time\",y=\"Sorting Time\",data=df1)"
   ]
  },
  {
   "cell_type": "code",
   "execution_count": 7,
   "id": "766d2d05",
   "metadata": {},
   "outputs": [],
   "source": [
    "df1 = df1.rename(columns={\"Delivery Time\":\"DT\",\"Sorting Time\":\"ST\"})"
   ]
  },
  {
   "cell_type": "markdown",
   "id": "b695a9fd",
   "metadata": {},
   "source": [
    "### Building regression model"
   ]
  },
  {
   "cell_type": "code",
   "execution_count": 8,
   "id": "66abf2e7",
   "metadata": {},
   "outputs": [],
   "source": [
    "model_1 = smf.ols(\"DT~ST\",data=df1).fit()"
   ]
  },
  {
   "cell_type": "code",
   "execution_count": 9,
   "id": "bbe74596",
   "metadata": {},
   "outputs": [
    {
     "data": {
      "text/plain": [
       "<AxesSubplot:xlabel='DT', ylabel='ST'>"
      ]
     },
     "execution_count": 9,
     "metadata": {},
     "output_type": "execute_result"
    },
    {
     "data": {
      "image/png": "[encoded data removed]",
      "text/plain": [
       "<Figure size 432x288 with 1 Axes>"
      ]
     },
     "metadata": {
      "needs_background": "light"
     },
     "output_type": "display_data"
    }
   ],
   "source": [
    "sns.regplot(x=\"DT\",y=\"ST\",data=df1)"
   ]
  },
  {
   "cell_type": "code",
   "execution_count": 10,
   "id": "9669ade6",
   "metadata": {},
   "outputs": [
    {
     "data": {
      "text/plain": [
       "Intercept    6.582734\n",
       "ST           1.649020\n",
       "dtype: float64"
      ]
     },
     "execution_count": 10,
     "metadata": {},
     "output_type": "execute_result"
    }
   ],
   "source": [
    "model_1.params"
   ]
  },
  {
   "cell_type": "code",
   "execution_count": 11,
   "id": "11a41df8",
   "metadata": {},
   "outputs": [
    {
     "data": {
      "text/plain": [
       "0.6822714748417231"
      ]
     },
     "execution_count": 11,
     "metadata": {},
     "output_type": "execute_result"
    }
   ],
   "source": [
    "model_1.rsquared"
   ]
  },
  {
   "cell_type": "markdown",
   "id": "574fd535",
   "metadata": {},
   "source": [
    "#### Log Model"
   ]
  },
  {
   "cell_type": "code",
   "execution_count": 12,
   "id": "57cdd34f",
   "metadata": {},
   "outputs": [
    {
     "data": {
      "text/plain": [
       "0.7109478980584187"
      ]
     },
     "execution_count": 12,
     "metadata": {},
     "output_type": "execute_result"
    }
   ],
   "source": [
    "model_2 = smf.ols(\"np.log(DT)~ST\",data=df1).fit()\n",
    "model_2.rsquared"
   ]
  },
  {
   "cell_type": "markdown",
   "id": "df6f22f7",
   "metadata": {},
   "source": [
    "#### Exponential Model"
   ]
  },
  {
   "cell_type": "code",
   "execution_count": 13,
   "id": "a4be7800",
   "metadata": {},
   "outputs": [
    {
     "data": {
      "text/plain": [
       "0.764866634295373"
      ]
     },
     "execution_count": 13,
     "metadata": {},
     "output_type": "execute_result"
    }
   ],
   "source": [
    "df2 = df1\n",
    "df2[\"y1\"] = df2.ST**2\n",
    "model_3 = smf.ols(\"np.log(DT)~ST+y1\",data=df2).fit()\n",
    "model_3.rsquared \n",
    "\n",
    "# This model gives us best r2 value hence we select this one."
   ]
  },
  {
   "cell_type": "code",
   "execution_count": 14,
   "id": "e226c630",
   "metadata": {},
   "outputs": [
    {
     "data": {
      "text/plain": [
       "Intercept    1.699704\n",
       "ST           0.265922\n",
       "y1          -0.012841\n",
       "dtype: float64"
      ]
     },
     "execution_count": 14,
     "metadata": {},
     "output_type": "execute_result"
    }
   ],
   "source": [
    "model_3.params"
   ]
  },
  {
   "cell_type": "code",
   "execution_count": 15,
   "id": "6bb86e04",
   "metadata": {},
   "outputs": [
    {
     "data": {
      "text/html": [
       "<table class=\"simpletable\">\n",
       "<caption>OLS Regression Results</caption>\n",
       "<tr>\n",
       "  <th>Dep. Variable:</th>       <td>np.log(DT)</td>    <th>  R-squared:         </th> <td>   0.765</td>\n",
       "</tr>\n",
       "<tr>\n",
       "  <th>Model:</th>                   <td>OLS</td>       <th>  Adj. R-squared:    </th> <td>   0.739</td>\n",
       "</tr>\n",
       "<tr>\n",
       "  <th>Method:</th>             <td>Least Squares</td>  <th>  F-statistic:       </th> <td>   29.28</td>\n",
       "</tr>\n",
       "<tr>\n",
       "  <th>Date:</th>             <td>Tue, 22 Feb 2022</td> <th>  Prob (F-statistic):</th> <td>2.20e-06</td>\n",
       "</tr>\n",
       "<tr>\n",
       "  <th>Time:</th>                 <td>14:29:46</td>     <th>  Log-Likelihood:    </th> <td>  9.9597</td>\n",
       "</tr>\n",
       "<tr>\n",
       "  <th>No. Observations:</th>      <td>    21</td>      <th>  AIC:               </th> <td>  -13.92</td>\n",
       "</tr>\n",
       "<tr>\n",
       "  <th>Df Residuals:</th>          <td>    18</td>      <th>  BIC:               </th> <td>  -10.79</td>\n",
       "</tr>\n",
       "<tr>\n",
       "  <th>Df Model:</th>              <td>     2</td>      <th>                     </th>     <td> </td>   \n",
       "</tr>\n",
       "<tr>\n",
       "  <th>Covariance Type:</th>      <td>nonrobust</td>    <th>                     </th>     <td> </td>   \n",
       "</tr>\n",
       "</table>\n",
       "<table class=\"simpletable\">\n",
       "<tr>\n",
       "      <td></td>         <th>coef</th>     <th>std err</th>      <th>t</th>      <th>P>|t|</th>  <th>[0.025</th>    <th>0.975]</th>  \n",
       "</tr>\n",
       "<tr>\n",
       "  <th>Intercept</th> <td>    1.6997</td> <td>    0.228</td> <td>    7.441</td> <td> 0.000</td> <td>    1.220</td> <td>    2.180</td>\n",
       "</tr>\n",
       "<tr>\n",
       "  <th>ST</th>        <td>    0.2659</td> <td>    0.080</td> <td>    3.315</td> <td> 0.004</td> <td>    0.097</td> <td>    0.434</td>\n",
       "</tr>\n",
       "<tr>\n",
       "  <th>y1</th>        <td>   -0.0128</td> <td>    0.006</td> <td>   -2.032</td> <td> 0.057</td> <td>   -0.026</td> <td>    0.000</td>\n",
       "</tr>\n",
       "</table>\n",
       "<table class=\"simpletable\">\n",
       "<tr>\n",
       "  <th>Omnibus:</th>       <td> 2.548</td> <th>  Durbin-Watson:     </th> <td>   1.369</td>\n",
       "</tr>\n",
       "<tr>\n",
       "  <th>Prob(Omnibus):</th> <td> 0.280</td> <th>  Jarque-Bera (JB):  </th> <td>   1.777</td>\n",
       "</tr>\n",
       "<tr>\n",
       "  <th>Skew:</th>          <td> 0.708</td> <th>  Prob(JB):          </th> <td>   0.411</td>\n",
       "</tr>\n",
       "<tr>\n",
       "  <th>Kurtosis:</th>      <td> 2.846</td> <th>  Cond. No.          </th> <td>    373.</td>\n",
       "</tr>\n",
       "</table><br/><br/>Notes:<br/>[1] Standard Errors assume that the covariance matrix of the errors is correctly specified."
      ],
      "text/plain": [
       "<class 'statsmodels.iolib.summary.Summary'>\n",
       "\"\"\"\n",
       "                            OLS Regression Results                            \n",
       "==============================================================================\n",
       "Dep. Variable:             np.log(DT)   R-squared:                       0.765\n",
       "Model:                            OLS   Adj. R-squared:                  0.739\n",
       "Method:                 Least Squares   F-statistic:                     29.28\n",
       "Date:                Tue, 22 Feb 2022   Prob (F-statistic):           2.20e-06\n",
       "Time:                        14:29:46   Log-Likelihood:                 9.9597\n",
       "No. Observations:                  21   AIC:                            -13.92\n",
       "Df Residuals:                      18   BIC:                            -10.79\n",
       "Df Model:                           2                                         \n",
       "Covariance Type:            nonrobust                                         \n",
       "==============================================================================\n",
       "                 coef    std err          t      P>|t|      [0.025      0.975]\n",
       "------------------------------------------------------------------------------\n",
       "Intercept      1.6997      0.228      7.441      0.000       1.220       2.180\n",
       "ST             0.2659      0.080      3.315      0.004       0.097       0.434\n",
       "y1            -0.0128      0.006     -2.032      0.057      -0.026       0.000\n",
       "==============================================================================\n",
       "Omnibus:                        2.548   Durbin-Watson:                   1.369\n",
       "Prob(Omnibus):                  0.280   Jarque-Bera (JB):                1.777\n",
       "Skew:                           0.708   Prob(JB):                        0.411\n",
       "Kurtosis:                       2.846   Cond. No.                         373.\n",
       "==============================================================================\n",
       "\n",
       "Notes:\n",
       "[1] Standard Errors assume that the covariance matrix of the errors is correctly specified.\n",
       "\"\"\""
      ]
     },
     "execution_count": 15,
     "metadata": {},
     "output_type": "execute_result"
    }
   ],
   "source": [
    "model_3.summary()"
   ]
  },
  {
   "cell_type": "markdown",
   "id": "3d4df57d",
   "metadata": {},
   "source": [
    "### Predictions\n"
   ]
  },
  {
   "cell_type": "code",
   "execution_count": 16,
   "id": "cf8b7b7e",
   "metadata": {},
   "outputs": [
    {
     "data": {
      "text/plain": [
       "0     21.646921\n",
       "1     12.909227\n",
       "2     16.995933\n",
       "3     21.176938\n",
       "4     21.646921\n",
       "5     16.995933\n",
       "6     18.764526\n",
       "7     10.825502\n",
       "8     21.646921\n",
       "9     21.176938\n",
       "10    20.191891\n",
       "11    12.909227\n",
       "12    18.764526\n",
       "13    10.825502\n",
       "14    10.825502\n",
       "15    12.909227\n",
       "16    16.995933\n",
       "17    18.764526\n",
       "18     8.847949\n",
       "19    18.764526\n",
       "20    15.003730\n",
       "dtype: float64"
      ]
     },
     "execution_count": 16,
     "metadata": {},
     "output_type": "execute_result"
    }
   ],
   "source": [
    "predictions_dt = model_3.predict(df1[[\"ST\",\"y1\"]])\n",
    "predicted_delivery_time = np.exp(predictions_dt)\n",
    "predicted_delivery_time"
   ]
  },
  {
   "cell_type": "code",
   "execution_count": 17,
   "id": "1e33f092",
   "metadata": {},
   "outputs": [
    {
     "data": {
      "text/plain": [
       "<matplotlib.legend.Legend at 0x2297379bb80>"
      ]
     },
     "execution_count": 17,
     "metadata": {},
     "output_type": "execute_result"
    },
    {
     "data": {
      "image/png": "[encoded data removed]",
      "text/plain": [
       "<Figure size 640x480 with 1 Axes>"
      ]
     },
     "metadata": {
      "needs_background": "light"
     },
     "output_type": "display_data"
    }
   ],
   "source": [
    "from matplotlib.pyplot import figure\n",
    "figure(figsize=(8,6),dpi=80)\n",
    "plt.plot(predicted_delivery_time,label='Predictions')\n",
    "plt.plot(df1[\"DT\"],label='Actual')\n",
    "plt.xlabel(\"Sorting Time\")\n",
    "plt.ylabel(\"Delivery time\")\n",
    "plt.legend()"
   ]
  },
  {
   "cell_type": "code",
   "execution_count": 19,
   "id": "e3c19f04",
   "metadata": {},
   "outputs": [],
   "source": [
    "from sklearn.linear_model import LinearRegression,RidgeCV,LassoCV,ElasticNetCV\n",
    "from sklearn.metrics import mean_squared_error"
   ]
  },
  {
   "cell_type": "code",
   "execution_count": null,
   "id": "7a2cf116",
   "metadata": {},
   "outputs": [],
   "source": [
    "lrm = LinearRegression()\n",
    "rgm = RidgeCV()\n",
    "lasso = LassoCV()\n",
    "elstm = ElasticNetCV()"
   ]
  },
  {
   "cell_type": "code",
   "execution_count": null,
   "id": "cfd9b47b",
   "metadata": {},
   "outputs": [],
   "source": [
    "\n"
   ]
  },
  {
   "cell_type": "code",
   "execution_count": null,
   "id": "134f9652",
   "metadata": {},
   "outputs": [],
   "source": []
  },
  {
   "cell_type": "code",
   "execution_count": null,
   "id": "92daf11d",
   "metadata": {},
   "outputs": [],
   "source": []
  }
 ],
 "metadata": {
  "kernelspec": {
   "display_name": "Python 3",
   "language": "python",
   "name": "python3"
  },
  "language_info": {
   "codemirror_mode": {
    "name": "ipython",
    "version": 3
   },
   "file_extension": ".py",
   "mimetype": "text/x-python",
   "name": "python",
   "nbconvert_exporter": "python",
   "pygments_lexer": "ipython3",
   "version": "3.8.8"
  }
 },
 "nbformat": 4,
 "nbformat_minor": 5
}
