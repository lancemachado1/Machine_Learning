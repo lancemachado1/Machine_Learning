{
 "cells": [
  {
   "cell_type": "code",
   "execution_count": 1,
   "id": "f78f756d",
   "metadata": {},
   "outputs": [],
   "source": [
    "import numpy as np\n",
    "import pandas as pd\n",
    "import matplotlib.pyplot as plt"
   ]
  },
  {
   "cell_type": "code",
   "execution_count": 2,
   "id": "def855f3",
   "metadata": {},
   "outputs": [],
   "source": [
    "from statsmodels.tsa.seasonal import seasonal_decompose\n",
    "from statsmodels.tsa.holtwinters import ExponentialSmoothing\n",
    "from sklearn.metrics import mean_squared_error as mse"
   ]
  },
  {
   "cell_type": "code",
   "execution_count": 3,
   "id": "3141ba95",
   "metadata": {},
   "outputs": [],
   "source": [
    "df = pd.read_excel('CocaCola_Sales_Rawdata.xlsx')"
   ]
  },
  {
   "cell_type": "code",
   "execution_count": 4,
   "id": "81b6d4db",
   "metadata": {},
   "outputs": [
    {
     "data": {
      "text/html": [
       "<div>\n",
       "<style scoped>\n",
       "    .dataframe tbody tr th:only-of-type {\n",
       "        vertical-align: middle;\n",
       "    }\n",
       "\n",
       "    .dataframe tbody tr th {\n",
       "        vertical-align: top;\n",
       "    }\n",
       "\n",
       "    .dataframe thead th {\n",
       "        text-align: right;\n",
       "    }\n",
       "</style>\n",
       "<table border=\"1\" class=\"dataframe\">\n",
       "  <thead>\n",
       "    <tr style=\"text-align: right;\">\n",
       "      <th></th>\n",
       "      <th>Quarter</th>\n",
       "      <th>Sales</th>\n",
       "    </tr>\n",
       "  </thead>\n",
       "  <tbody>\n",
       "    <tr>\n",
       "      <th>0</th>\n",
       "      <td>Q1_86</td>\n",
       "      <td>1734.827000</td>\n",
       "    </tr>\n",
       "    <tr>\n",
       "      <th>1</th>\n",
       "      <td>Q2_86</td>\n",
       "      <td>2244.960999</td>\n",
       "    </tr>\n",
       "    <tr>\n",
       "      <th>2</th>\n",
       "      <td>Q3_86</td>\n",
       "      <td>2533.804993</td>\n",
       "    </tr>\n",
       "    <tr>\n",
       "      <th>3</th>\n",
       "      <td>Q4_86</td>\n",
       "      <td>2154.962997</td>\n",
       "    </tr>\n",
       "    <tr>\n",
       "      <th>4</th>\n",
       "      <td>Q1_87</td>\n",
       "      <td>1547.818996</td>\n",
       "    </tr>\n",
       "  </tbody>\n",
       "</table>\n",
       "</div>"
      ],
      "text/plain": [
       "  Quarter        Sales\n",
       "0   Q1_86  1734.827000\n",
       "1   Q2_86  2244.960999\n",
       "2   Q3_86  2533.804993\n",
       "3   Q4_86  2154.962997\n",
       "4   Q1_87  1547.818996"
      ]
     },
     "execution_count": 4,
     "metadata": {},
     "output_type": "execute_result"
    }
   ],
   "source": [
    "df.head(5)"
   ]
  },
  {
   "cell_type": "code",
   "execution_count": 5,
   "id": "7bd35a4b",
   "metadata": {},
   "outputs": [
    {
     "name": "stdout",
     "output_type": "stream",
     "text": [
      "<class 'pandas.core.frame.DataFrame'>\n",
      "RangeIndex: 42 entries, 0 to 41\n",
      "Data columns (total 2 columns):\n",
      " #   Column   Non-Null Count  Dtype  \n",
      "---  ------   --------------  -----  \n",
      " 0   Quarter  42 non-null     object \n",
      " 1   Sales    42 non-null     float64\n",
      "dtypes: float64(1), object(1)\n",
      "memory usage: 800.0+ bytes\n"
     ]
    }
   ],
   "source": [
    "df.info()"
   ]
  },
  {
   "cell_type": "code",
   "execution_count": 6,
   "id": "fce17f63",
   "metadata": {},
   "outputs": [
    {
     "data": {
      "text/html": [
       "<div>\n",
       "<style scoped>\n",
       "    .dataframe tbody tr th:only-of-type {\n",
       "        vertical-align: middle;\n",
       "    }\n",
       "\n",
       "    .dataframe tbody tr th {\n",
       "        vertical-align: top;\n",
       "    }\n",
       "\n",
       "    .dataframe thead th {\n",
       "        text-align: right;\n",
       "    }\n",
       "</style>\n",
       "<table border=\"1\" class=\"dataframe\">\n",
       "  <thead>\n",
       "    <tr style=\"text-align: right;\">\n",
       "      <th></th>\n",
       "      <th>Sales</th>\n",
       "    </tr>\n",
       "  </thead>\n",
       "  <tbody>\n",
       "    <tr>\n",
       "      <th>count</th>\n",
       "      <td>42.000000</td>\n",
       "    </tr>\n",
       "    <tr>\n",
       "      <th>mean</th>\n",
       "      <td>2994.353308</td>\n",
       "    </tr>\n",
       "    <tr>\n",
       "      <th>std</th>\n",
       "      <td>977.930896</td>\n",
       "    </tr>\n",
       "    <tr>\n",
       "      <th>min</th>\n",
       "      <td>1547.818996</td>\n",
       "    </tr>\n",
       "    <tr>\n",
       "      <th>25%</th>\n",
       "      <td>2159.714247</td>\n",
       "    </tr>\n",
       "    <tr>\n",
       "      <th>50%</th>\n",
       "      <td>2782.376999</td>\n",
       "    </tr>\n",
       "    <tr>\n",
       "      <th>75%</th>\n",
       "      <td>3609.250000</td>\n",
       "    </tr>\n",
       "    <tr>\n",
       "      <th>max</th>\n",
       "      <td>5253.000000</td>\n",
       "    </tr>\n",
       "  </tbody>\n",
       "</table>\n",
       "</div>"
      ],
      "text/plain": [
       "             Sales\n",
       "count    42.000000\n",
       "mean   2994.353308\n",
       "std     977.930896\n",
       "min    1547.818996\n",
       "25%    2159.714247\n",
       "50%    2782.376999\n",
       "75%    3609.250000\n",
       "max    5253.000000"
      ]
     },
     "execution_count": 6,
     "metadata": {},
     "output_type": "execute_result"
    }
   ],
   "source": [
    "df.describe()"
   ]
  },
  {
   "cell_type": "code",
   "execution_count": 7,
   "id": "0c30684f",
   "metadata": {},
   "outputs": [
    {
     "data": {
      "text/plain": [
       "<AxesSubplot:>"
      ]
     },
     "execution_count": 7,
     "metadata": {},
     "output_type": "execute_result"
    },
    {
     "data": {
      "image/png": "[encoded data removed]",
      "text/plain": [
       "<Figure size 432x288 with 1 Axes>"
      ]
     },
     "metadata": {
      "needs_background": "light"
     },
     "output_type": "display_data"
    }
   ],
   "source": [
    "df['Sales'].plot()"
   ]
  },
  {
   "cell_type": "code",
   "execution_count": 8,
   "id": "750001f4",
   "metadata": {},
   "outputs": [],
   "source": [
    "seasonal_dcp = seasonal_decompose(df['Sales'],period=4)"
   ]
  },
  {
   "cell_type": "code",
   "execution_count": 9,
   "id": "3fa0f788",
   "metadata": {},
   "outputs": [
    {
     "data": {
      "image/png": "[encoded data removed]",
      "text/plain": [
       "<Figure size 432x288 with 4 Axes>"
      ]
     },
     "metadata": {
      "needs_background": "light"
     },
     "output_type": "display_data"
    }
   ],
   "source": [
    "seasonal_dcp.plot();"
   ]
  },
  {
   "cell_type": "markdown",
   "id": "5d249206",
   "metadata": {},
   "source": [
    "#### Trend seems to be non-linear, we can use Holt Winters method to forecast.\n",
    "#### Also seasonality looks to increase exponentially, so SARIMA model can be explored as well."
   ]
  },
  {
   "cell_type": "code",
   "execution_count": 10,
   "id": "de7288a0",
   "metadata": {},
   "outputs": [],
   "source": [
    "train = df.head(32)\n",
    "test = df.tail(10)"
   ]
  },
  {
   "cell_type": "markdown",
   "id": "52af9a90",
   "metadata": {},
   "source": [
    "### Holt Winter Exponential Smoothing"
   ]
  },
  {
   "cell_type": "code",
   "execution_count": 11,
   "id": "e3890115",
   "metadata": {},
   "outputs": [
    {
     "name": "stderr",
     "output_type": "stream",
     "text": [
      "C:\\Anaconda\\lib\\site-packages\\statsmodels\\tsa\\holtwinters\\model.py:427: FutureWarning: After 0.13 initialization must be handled at model creation\n",
      "  warnings.warn(\n"
     ]
    },
    {
     "data": {
      "text/plain": [
       "455.8282881296425"
      ]
     },
     "execution_count": 11,
     "metadata": {},
     "output_type": "execute_result"
    }
   ],
   "source": [
    "holt_Win_mul = ExponentialSmoothing(train['Sales'],trend='mul',seasonal='mul',seasonal_periods=4).fit()\n",
    "hw_mul_forecast = holt_Win_mul.predict(test.index[0],test.index[-1])\n",
    "np.sqrt(mse(test['Sales'],hw_mul_forecast))"
   ]
  },
  {
   "cell_type": "code",
   "execution_count": 12,
   "id": "84625187",
   "metadata": {},
   "outputs": [
    {
     "data": {
      "text/plain": [
       "<AxesSubplot:>"
      ]
     },
     "execution_count": 12,
     "metadata": {},
     "output_type": "execute_result"
    },
    {
     "data": {
      "image/png": "[encoded data removed]",
      "text/plain": [
       "<Figure size 432x288 with 1 Axes>"
      ]
     },
     "metadata": {
      "needs_background": "light"
     },
     "output_type": "display_data"
    }
   ],
   "source": [
    "df.plot(legend=True)\n",
    "hw_mul_forecast.plot(legend=True)"
   ]
  },
  {
   "cell_type": "code",
   "execution_count": 13,
   "id": "bcbe7b61",
   "metadata": {},
   "outputs": [],
   "source": [
    "import statsmodels.graphics.tsaplots as tsa_plots"
   ]
  },
  {
   "cell_type": "code",
   "execution_count": 14,
   "id": "7261f77f",
   "metadata": {},
   "outputs": [
    {
     "data": {
      "image/png": "[encoded data removed]",
      "text/plain": [
       "<Figure size 432x288 with 1 Axes>"
      ]
     },
     "metadata": {
      "needs_background": "light"
     },
     "output_type": "display_data"
    },
    {
     "data": {
      "image/png": "[encoded data removed]",
      "text/plain": [
       "<Figure size 432x288 with 1 Axes>"
      ]
     },
     "metadata": {
      "needs_background": "light"
     },
     "output_type": "display_data"
    }
   ],
   "source": [
    "tsa_plots.plot_acf(df['Sales'],lags=8)\n",
    "tsa_plots.plot_pacf(df['Sales'],lags=8)\n",
    "plt.show()"
   ]
  },
  {
   "cell_type": "code",
   "execution_count": 15,
   "id": "f62d1adf",
   "metadata": {},
   "outputs": [],
   "source": [
    "from pmdarima import auto_arima"
   ]
  },
  {
   "cell_type": "code",
   "execution_count": 16,
   "id": "4161ff12",
   "metadata": {},
   "outputs": [
    {
     "data": {
      "text/html": [
       "<table class=\"simpletable\">\n",
       "<caption>SARIMAX Results</caption>\n",
       "<tr>\n",
       "  <th>Dep. Variable:</th>                  <td>y</td>                <th>  No. Observations:  </th>    <td>42</td>   \n",
       "</tr>\n",
       "<tr>\n",
       "  <th>Model:</th>           <td>SARIMAX(2, 1, 2)x(0, 1, [1], 8)</td> <th>  Log Likelihood     </th> <td>-216.485</td>\n",
       "</tr>\n",
       "<tr>\n",
       "  <th>Date:</th>                   <td>Sun, 27 Mar 2022</td>         <th>  AIC                </th>  <td>444.971</td>\n",
       "</tr>\n",
       "<tr>\n",
       "  <th>Time:</th>                       <td>11:46:58</td>             <th>  BIC                </th>  <td>453.950</td>\n",
       "</tr>\n",
       "<tr>\n",
       "  <th>Sample:</th>                         <td>0</td>                <th>  HQIC               </th>  <td>447.992</td>\n",
       "</tr>\n",
       "<tr>\n",
       "  <th></th>                              <td> - 42</td>              <th>                     </th>     <td> </td>   \n",
       "</tr>\n",
       "<tr>\n",
       "  <th>Covariance Type:</th>               <td>opg</td>               <th>                     </th>     <td> </td>   \n",
       "</tr>\n",
       "</table>\n",
       "<table class=\"simpletable\">\n",
       "<tr>\n",
       "     <td></td>        <th>coef</th>     <th>std err</th>      <th>z</th>      <th>P>|z|</th>  <th>[0.025</th>    <th>0.975]</th>  \n",
       "</tr>\n",
       "<tr>\n",
       "  <th>ar.L1</th>   <td>    0.1405</td> <td>    0.087</td> <td>    1.624</td> <td> 0.104</td> <td>   -0.029</td> <td>    0.310</td>\n",
       "</tr>\n",
       "<tr>\n",
       "  <th>ar.L2</th>   <td>   -0.9962</td> <td>    0.029</td> <td>  -34.680</td> <td> 0.000</td> <td>   -1.053</td> <td>   -0.940</td>\n",
       "</tr>\n",
       "<tr>\n",
       "  <th>ma.L1</th>   <td>   -0.2327</td> <td>    0.141</td> <td>   -1.647</td> <td> 0.099</td> <td>   -0.510</td> <td>    0.044</td>\n",
       "</tr>\n",
       "<tr>\n",
       "  <th>ma.L2</th>   <td>    0.9378</td> <td>    0.655</td> <td>    1.432</td> <td> 0.152</td> <td>   -0.346</td> <td>    2.221</td>\n",
       "</tr>\n",
       "<tr>\n",
       "  <th>ma.S.L8</th> <td>   -0.7492</td> <td>    0.564</td> <td>   -1.329</td> <td> 0.184</td> <td>   -1.855</td> <td>    0.356</td>\n",
       "</tr>\n",
       "<tr>\n",
       "  <th>sigma2</th>  <td> 2.175e+04</td> <td> 1.53e+04</td> <td>    1.417</td> <td> 0.156</td> <td>-8324.256</td> <td> 5.18e+04</td>\n",
       "</tr>\n",
       "</table>\n",
       "<table class=\"simpletable\">\n",
       "<tr>\n",
       "  <th>Ljung-Box (L1) (Q):</th>     <td>0.10</td> <th>  Jarque-Bera (JB):  </th> <td>1.76</td> \n",
       "</tr>\n",
       "<tr>\n",
       "  <th>Prob(Q):</th>                <td>0.75</td> <th>  Prob(JB):          </th> <td>0.41</td> \n",
       "</tr>\n",
       "<tr>\n",
       "  <th>Heteroskedasticity (H):</th> <td>0.38</td> <th>  Skew:              </th> <td>-0.37</td>\n",
       "</tr>\n",
       "<tr>\n",
       "  <th>Prob(H) (two-sided):</th>    <td>0.12</td> <th>  Kurtosis:          </th> <td>3.85</td> \n",
       "</tr>\n",
       "</table><br/><br/>Warnings:<br/>[1] Covariance matrix calculated using the outer product of gradients (complex-step)."
      ],
      "text/plain": [
       "<class 'statsmodels.iolib.summary.Summary'>\n",
       "\"\"\"\n",
       "                                      SARIMAX Results                                      \n",
       "===========================================================================================\n",
       "Dep. Variable:                                   y   No. Observations:                   42\n",
       "Model:             SARIMAX(2, 1, 2)x(0, 1, [1], 8)   Log Likelihood                -216.485\n",
       "Date:                             Sun, 27 Mar 2022   AIC                            444.971\n",
       "Time:                                     11:46:58   BIC                            453.950\n",
       "Sample:                                          0   HQIC                           447.992\n",
       "                                              - 42                                         \n",
       "Covariance Type:                               opg                                         \n",
       "==============================================================================\n",
       "                 coef    std err          z      P>|z|      [0.025      0.975]\n",
       "------------------------------------------------------------------------------\n",
       "ar.L1          0.1405      0.087      1.624      0.104      -0.029       0.310\n",
       "ar.L2         -0.9962      0.029    -34.680      0.000      -1.053      -0.940\n",
       "ma.L1         -0.2327      0.141     -1.647      0.099      -0.510       0.044\n",
       "ma.L2          0.9378      0.655      1.432      0.152      -0.346       2.221\n",
       "ma.S.L8       -0.7492      0.564     -1.329      0.184      -1.855       0.356\n",
       "sigma2      2.175e+04   1.53e+04      1.417      0.156   -8324.256    5.18e+04\n",
       "===================================================================================\n",
       "Ljung-Box (L1) (Q):                   0.10   Jarque-Bera (JB):                 1.76\n",
       "Prob(Q):                              0.75   Prob(JB):                         0.41\n",
       "Heteroskedasticity (H):               0.38   Skew:                            -0.37\n",
       "Prob(H) (two-sided):                  0.12   Kurtosis:                         3.85\n",
       "===================================================================================\n",
       "\n",
       "Warnings:\n",
       "[1] Covariance matrix calculated using the outer product of gradients (complex-step).\n",
       "\"\"\""
      ]
     },
     "execution_count": 16,
     "metadata": {},
     "output_type": "execute_result"
    }
   ],
   "source": [
    "auto_arima(df['Sales'],error_action='ignore',seasonal=True,m=8).summary()"
   ]
  },
  {
   "cell_type": "code",
   "execution_count": 17,
   "id": "6745a0f0",
   "metadata": {},
   "outputs": [],
   "source": [
    "from statsmodels.tsa.statespace.sarimax import SARIMAX"
   ]
  },
  {
   "cell_type": "code",
   "execution_count": 18,
   "id": "d8238777",
   "metadata": {},
   "outputs": [],
   "source": [
    "# model = SARIMAX(train['Sales'],order=(4, 1, 0),seasonal_order=(0,1,0,4))\n",
    "# results = model.fit()\n",
    "# results.summary()"
   ]
  },
  {
   "cell_type": "code",
   "execution_count": 19,
   "id": "49ab87cc",
   "metadata": {},
   "outputs": [
    {
     "name": "stderr",
     "output_type": "stream",
     "text": [
      "C:\\Anaconda\\lib\\site-packages\\statsmodels\\tsa\\statespace\\sarimax.py:866: UserWarning: Too few observations to estimate starting parameters for seasonal ARMA. All parameters except for variances will be set to zeros.\n",
      "  warn('Too few observations to estimate starting parameters%s.'\n"
     ]
    },
    {
     "data": {
      "text/html": [
       "<table class=\"simpletable\">\n",
       "<caption>SARIMAX Results</caption>\n",
       "<tr>\n",
       "  <th>Dep. Variable:</th>                <td>Sales</td>              <th>  No. Observations:  </th>    <td>32</td>   \n",
       "</tr>\n",
       "<tr>\n",
       "  <th>Model:</th>           <td>SARIMAX(2, 1, 2)x(0, 1, [1], 8)</td> <th>  Log Likelihood     </th> <td>-152.724</td>\n",
       "</tr>\n",
       "<tr>\n",
       "  <th>Date:</th>                   <td>Sun, 27 Mar 2022</td>         <th>  AIC                </th>  <td>317.448</td>\n",
       "</tr>\n",
       "<tr>\n",
       "  <th>Time:</th>                       <td>11:46:58</td>             <th>  BIC                </th>  <td>324.261</td>\n",
       "</tr>\n",
       "<tr>\n",
       "  <th>Sample:</th>                         <td>0</td>                <th>  HQIC               </th>  <td>319.162</td>\n",
       "</tr>\n",
       "<tr>\n",
       "  <th></th>                              <td> - 32</td>              <th>                     </th>     <td> </td>   \n",
       "</tr>\n",
       "<tr>\n",
       "  <th>Covariance Type:</th>               <td>opg</td>               <th>                     </th>     <td> </td>   \n",
       "</tr>\n",
       "</table>\n",
       "<table class=\"simpletable\">\n",
       "<tr>\n",
       "     <td></td>        <th>coef</th>     <th>std err</th>      <th>z</th>      <th>P>|z|</th>  <th>[0.025</th>    <th>0.975]</th>  \n",
       "</tr>\n",
       "<tr>\n",
       "  <th>ar.L1</th>   <td>    0.5067</td> <td>    0.182</td> <td>    2.788</td> <td> 0.005</td> <td>    0.151</td> <td>    0.863</td>\n",
       "</tr>\n",
       "<tr>\n",
       "  <th>ar.L2</th>   <td>   -0.8771</td> <td>    0.137</td> <td>   -6.407</td> <td> 0.000</td> <td>   -1.145</td> <td>   -0.609</td>\n",
       "</tr>\n",
       "<tr>\n",
       "  <th>ma.L1</th>   <td>   -0.8896</td> <td>    0.311</td> <td>   -2.861</td> <td> 0.004</td> <td>   -1.499</td> <td>   -0.280</td>\n",
       "</tr>\n",
       "<tr>\n",
       "  <th>ma.L2</th>   <td>    0.9659</td> <td>    0.658</td> <td>    1.468</td> <td> 0.142</td> <td>   -0.324</td> <td>    2.255</td>\n",
       "</tr>\n",
       "<tr>\n",
       "  <th>ma.S.L8</th> <td>   -0.4628</td> <td>    0.416</td> <td>   -1.113</td> <td> 0.266</td> <td>   -1.277</td> <td>    0.352</td>\n",
       "</tr>\n",
       "<tr>\n",
       "  <th>sigma2</th>  <td> 2.605e+04</td> <td> 1.63e+04</td> <td>    1.598</td> <td> 0.110</td> <td>-5905.924</td> <td>  5.8e+04</td>\n",
       "</tr>\n",
       "</table>\n",
       "<table class=\"simpletable\">\n",
       "<tr>\n",
       "  <th>Ljung-Box (L1) (Q):</th>     <td>0.01</td> <th>  Jarque-Bera (JB):  </th> <td>1.27</td> \n",
       "</tr>\n",
       "<tr>\n",
       "  <th>Prob(Q):</th>                <td>0.93</td> <th>  Prob(JB):          </th> <td>0.53</td> \n",
       "</tr>\n",
       "<tr>\n",
       "  <th>Heteroskedasticity (H):</th> <td>0.55</td> <th>  Skew:              </th> <td>-0.56</td>\n",
       "</tr>\n",
       "<tr>\n",
       "  <th>Prob(H) (two-sided):</th>    <td>0.42</td> <th>  Kurtosis:          </th> <td>3.24</td> \n",
       "</tr>\n",
       "</table><br/><br/>Warnings:<br/>[1] Covariance matrix calculated using the outer product of gradients (complex-step)."
      ],
      "text/plain": [
       "<class 'statsmodels.iolib.summary.Summary'>\n",
       "\"\"\"\n",
       "                                      SARIMAX Results                                      \n",
       "===========================================================================================\n",
       "Dep. Variable:                               Sales   No. Observations:                   32\n",
       "Model:             SARIMAX(2, 1, 2)x(0, 1, [1], 8)   Log Likelihood                -152.724\n",
       "Date:                             Sun, 27 Mar 2022   AIC                            317.448\n",
       "Time:                                     11:46:58   BIC                            324.261\n",
       "Sample:                                          0   HQIC                           319.162\n",
       "                                              - 32                                         \n",
       "Covariance Type:                               opg                                         \n",
       "==============================================================================\n",
       "                 coef    std err          z      P>|z|      [0.025      0.975]\n",
       "------------------------------------------------------------------------------\n",
       "ar.L1          0.5067      0.182      2.788      0.005       0.151       0.863\n",
       "ar.L2         -0.8771      0.137     -6.407      0.000      -1.145      -0.609\n",
       "ma.L1         -0.8896      0.311     -2.861      0.004      -1.499      -0.280\n",
       "ma.L2          0.9659      0.658      1.468      0.142      -0.324       2.255\n",
       "ma.S.L8       -0.4628      0.416     -1.113      0.266      -1.277       0.352\n",
       "sigma2      2.605e+04   1.63e+04      1.598      0.110   -5905.924     5.8e+04\n",
       "===================================================================================\n",
       "Ljung-Box (L1) (Q):                   0.01   Jarque-Bera (JB):                 1.27\n",
       "Prob(Q):                              0.93   Prob(JB):                         0.53\n",
       "Heteroskedasticity (H):               0.55   Skew:                            -0.56\n",
       "Prob(H) (two-sided):                  0.42   Kurtosis:                         3.24\n",
       "===================================================================================\n",
       "\n",
       "Warnings:\n",
       "[1] Covariance matrix calculated using the outer product of gradients (complex-step).\n",
       "\"\"\""
      ]
     },
     "execution_count": 19,
     "metadata": {},
     "output_type": "execute_result"
    }
   ],
   "source": [
    "model = SARIMAX(train['Sales'],order=(2, 1, 2),seasonal_order=(0, 1, [1], 8))\n",
    "results = model.fit()\n",
    "results.summary()"
   ]
  },
  {
   "cell_type": "code",
   "execution_count": 20,
   "id": "64724847",
   "metadata": {},
   "outputs": [],
   "source": [
    "test_forecast = results.predict(test.index[0],test.index[-1],type='levels')"
   ]
  },
  {
   "cell_type": "code",
   "execution_count": 21,
   "id": "f4d808c8",
   "metadata": {},
   "outputs": [
    {
     "data": {
      "text/plain": [
       "477.30446653364913"
      ]
     },
     "execution_count": 21,
     "metadata": {},
     "output_type": "execute_result"
    }
   ],
   "source": [
    "np.sqrt(mse(test['Sales'],test_forecast))"
   ]
  },
  {
   "cell_type": "markdown",
   "id": "4e19451a",
   "metadata": {},
   "source": [
    "#### Training on whole data-set and generating forecast."
   ]
  },
  {
   "cell_type": "code",
   "execution_count": 22,
   "id": "15c353ac",
   "metadata": {},
   "outputs": [
    {
     "name": "stderr",
     "output_type": "stream",
     "text": [
      "C:\\Anaconda\\lib\\site-packages\\statsmodels\\base\\model.py:566: ConvergenceWarning: Maximum Likelihood optimization failed to converge. Check mle_retvals\n",
      "  warnings.warn(\"Maximum Likelihood optimization failed to \"\n"
     ]
    }
   ],
   "source": [
    "model_f = SARIMAX(df['Sales'],order=(2, 1, 2),seasonal_order=(0, 1, [1], 8))\n",
    "results_f = model_f.fit()"
   ]
  },
  {
   "cell_type": "code",
   "execution_count": 23,
   "id": "eb6feed7",
   "metadata": {},
   "outputs": [],
   "source": [
    "forecast = results.predict(len(df),len(df)+12,type='levels')"
   ]
  },
  {
   "cell_type": "code",
   "execution_count": 24,
   "id": "2f2901b9",
   "metadata": {},
   "outputs": [
    {
     "data": {
      "text/plain": [
       "42    4532.037949\n",
       "43    4255.258504\n",
       "44    4042.124284\n",
       "45    4749.621250\n",
       "46    4649.429637\n",
       "47    4435.232404\n",
       "48    4357.800826\n",
       "49    5034.395317\n",
       "50    5005.824053\n",
       "51    4741.514201\n",
       "52    4565.536542\n",
       "53    5280.924042\n",
       "54    5152.142246\n",
       "Name: predicted_mean, dtype: float64"
      ]
     },
     "execution_count": 24,
     "metadata": {},
     "output_type": "execute_result"
    }
   ],
   "source": [
    "forecast"
   ]
  },
  {
   "cell_type": "code",
   "execution_count": 25,
   "id": "75b9a8e3",
   "metadata": {},
   "outputs": [
    {
     "data": {
      "image/png": "[encoded data removed]",
      "text/plain": [
       "<Figure size 864x432 with 1 Axes>"
      ]
     },
     "metadata": {
      "needs_background": "light"
     },
     "output_type": "display_data"
    }
   ],
   "source": [
    "# Plot predictions against known values\n",
    "title = 'Coco Cola Sales Forecast'\n",
    "ylabel = ''\n",
    "xlabel=''\n",
    "\n",
    "ax = df['Sales'].plot(legend=True,figsize=(12,6),title=title)\n",
    "forecast.plot(legend=True,label='SARIMA model - Forecast')\n",
    "ax.autoscale(axis='x',tight=True)\n",
    "ax.set(xlabel=xlabel, ylabel=ylabel);"
   ]
  }
 ],
 "metadata": {
  "kernelspec": {
   "display_name": "Python 3",
   "language": "python",
   "name": "python3"
  },
  "language_info": {
   "codemirror_mode": {
    "name": "ipython",
    "version": 3
   },
   "file_extension": ".py",
   "mimetype": "text/x-python",
   "name": "python",
   "nbconvert_exporter": "python",
   "pygments_lexer": "ipython3",
   "version": "3.8.8"
  }
 },
 "nbformat": 4,
 "nbformat_minor": 5
}
