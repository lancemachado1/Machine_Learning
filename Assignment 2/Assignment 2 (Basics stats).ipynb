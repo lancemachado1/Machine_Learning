{
 "cells": [
  {
   "cell_type": "code",
   "execution_count": 1,
   "id": "a34afb34",
   "metadata": {},
   "outputs": [],
   "source": [
    "import numpy as np\n",
    "import pandas as pd\n",
    "import matplotlib as plt\n",
    "import seaborn as sns\n",
    "from scipy import stats"
   ]
  },
  {
   "cell_type": "markdown",
   "id": "4deaf955",
   "metadata": {},
   "source": [
    "# SET 1\n"
   ]
  },
  {
   "cell_type": "markdown",
   "id": "ec74a2ff",
   "metadata": {},
   "source": [
    "### Q1"
   ]
  },
  {
   "cell_type": "code",
   "execution_count": 2,
   "id": "64886ef2",
   "metadata": {},
   "outputs": [
    {
     "data": {
      "text/html": [
       "<div>\n",
       "<style scoped>\n",
       "    .dataframe tbody tr th:only-of-type {\n",
       "        vertical-align: middle;\n",
       "    }\n",
       "\n",
       "    .dataframe tbody tr th {\n",
       "        vertical-align: top;\n",
       "    }\n",
       "\n",
       "    .dataframe thead th {\n",
       "        text-align: right;\n",
       "    }\n",
       "</style>\n",
       "<table border=\"1\" class=\"dataframe\">\n",
       "  <thead>\n",
       "    <tr style=\"text-align: right;\">\n",
       "      <th></th>\n",
       "      <th>Name of company</th>\n",
       "      <th>Measure X (in %)</th>\n",
       "    </tr>\n",
       "  </thead>\n",
       "  <tbody>\n",
       "    <tr>\n",
       "      <th>0</th>\n",
       "      <td>Allied Signal</td>\n",
       "      <td>24.23</td>\n",
       "    </tr>\n",
       "    <tr>\n",
       "      <th>1</th>\n",
       "      <td>Bankers Trust</td>\n",
       "      <td>25.53</td>\n",
       "    </tr>\n",
       "    <tr>\n",
       "      <th>2</th>\n",
       "      <td>General Mills</td>\n",
       "      <td>25.41</td>\n",
       "    </tr>\n",
       "    <tr>\n",
       "      <th>3</th>\n",
       "      <td>ITT Industries</td>\n",
       "      <td>24.14</td>\n",
       "    </tr>\n",
       "    <tr>\n",
       "      <th>4</th>\n",
       "      <td>J.P.Morgan &amp; Co.</td>\n",
       "      <td>29.62</td>\n",
       "    </tr>\n",
       "    <tr>\n",
       "      <th>5</th>\n",
       "      <td>Lehman Brothers</td>\n",
       "      <td>28.25</td>\n",
       "    </tr>\n",
       "    <tr>\n",
       "      <th>6</th>\n",
       "      <td>Marriott</td>\n",
       "      <td>25.81</td>\n",
       "    </tr>\n",
       "    <tr>\n",
       "      <th>7</th>\n",
       "      <td>MCI</td>\n",
       "      <td>24.39</td>\n",
       "    </tr>\n",
       "    <tr>\n",
       "      <th>8</th>\n",
       "      <td>Merrill Lynch</td>\n",
       "      <td>40.26</td>\n",
       "    </tr>\n",
       "    <tr>\n",
       "      <th>9</th>\n",
       "      <td>Microsoft</td>\n",
       "      <td>32.95</td>\n",
       "    </tr>\n",
       "    <tr>\n",
       "      <th>10</th>\n",
       "      <td>Morgan Stanley</td>\n",
       "      <td>91.36</td>\n",
       "    </tr>\n",
       "    <tr>\n",
       "      <th>11</th>\n",
       "      <td>Sun Microsystems</td>\n",
       "      <td>25.99</td>\n",
       "    </tr>\n",
       "    <tr>\n",
       "      <th>12</th>\n",
       "      <td>Travelers</td>\n",
       "      <td>39.42</td>\n",
       "    </tr>\n",
       "    <tr>\n",
       "      <th>13</th>\n",
       "      <td>US Airways</td>\n",
       "      <td>26.71</td>\n",
       "    </tr>\n",
       "    <tr>\n",
       "      <th>14</th>\n",
       "      <td>Warner-Lambert</td>\n",
       "      <td>35.00</td>\n",
       "    </tr>\n",
       "  </tbody>\n",
       "</table>\n",
       "</div>"
      ],
      "text/plain": [
       "     Name of company   Measure X (in %)\n",
       "0      Allied Signal              24.23\n",
       "1      Bankers Trust              25.53\n",
       "2      General Mills              25.41\n",
       "3     ITT Industries              24.14\n",
       "4   J.P.Morgan & Co.              29.62\n",
       "5    Lehman Brothers              28.25\n",
       "6           Marriott              25.81\n",
       "7                MCI              24.39\n",
       "8      Merrill Lynch              40.26\n",
       "9          Microsoft              32.95\n",
       "10    Morgan Stanley              91.36\n",
       "11  Sun Microsystems              25.99\n",
       "12         Travelers              39.42\n",
       "13        US Airways              26.71\n",
       "14    Warner-Lambert              35.00"
      ]
     },
     "execution_count": 2,
     "metadata": {},
     "output_type": "execute_result"
    }
   ],
   "source": [
    "\n",
    "dt = pd.read_excel(\"C:\\\\Users\\\\Lance Machado\\\\Downloads\\\\Book 2 (1).xlsx\")\n",
    "dt"
   ]
  },
  {
   "cell_type": "code",
   "execution_count": 3,
   "id": "d80c62b0",
   "metadata": {},
   "outputs": [
    {
     "data": {
      "text/html": [
       "<div>\n",
       "<style scoped>\n",
       "    .dataframe tbody tr th:only-of-type {\n",
       "        vertical-align: middle;\n",
       "    }\n",
       "\n",
       "    .dataframe tbody tr th {\n",
       "        vertical-align: top;\n",
       "    }\n",
       "\n",
       "    .dataframe thead th {\n",
       "        text-align: right;\n",
       "    }\n",
       "</style>\n",
       "<table border=\"1\" class=\"dataframe\">\n",
       "  <thead>\n",
       "    <tr style=\"text-align: right;\">\n",
       "      <th></th>\n",
       "      <th>Measure X (in %)</th>\n",
       "    </tr>\n",
       "  </thead>\n",
       "  <tbody>\n",
       "    <tr>\n",
       "      <th>count</th>\n",
       "      <td>15.000000</td>\n",
       "    </tr>\n",
       "    <tr>\n",
       "      <th>mean</th>\n",
       "      <td>33.271333</td>\n",
       "    </tr>\n",
       "    <tr>\n",
       "      <th>std</th>\n",
       "      <td>16.945401</td>\n",
       "    </tr>\n",
       "    <tr>\n",
       "      <th>min</th>\n",
       "      <td>24.140000</td>\n",
       "    </tr>\n",
       "    <tr>\n",
       "      <th>25%</th>\n",
       "      <td>25.470000</td>\n",
       "    </tr>\n",
       "    <tr>\n",
       "      <th>50%</th>\n",
       "      <td>26.710000</td>\n",
       "    </tr>\n",
       "    <tr>\n",
       "      <th>75%</th>\n",
       "      <td>33.975000</td>\n",
       "    </tr>\n",
       "    <tr>\n",
       "      <th>max</th>\n",
       "      <td>91.360000</td>\n",
       "    </tr>\n",
       "  </tbody>\n",
       "</table>\n",
       "</div>"
      ],
      "text/plain": [
       "       Measure X (in %)\n",
       "count         15.000000\n",
       "mean          33.271333\n",
       "std           16.945401\n",
       "min           24.140000\n",
       "25%           25.470000\n",
       "50%           26.710000\n",
       "75%           33.975000\n",
       "max           91.360000"
      ]
     },
     "execution_count": 3,
     "metadata": {},
     "output_type": "execute_result"
    }
   ],
   "source": [
    "dt.describe()"
   ]
  },
  {
   "cell_type": "code",
   "execution_count": 4,
   "id": "64a15be4",
   "metadata": {},
   "outputs": [
    {
     "data": {
      "text/plain": [
       "287.146615050801"
      ]
     },
     "execution_count": 4,
     "metadata": {},
     "output_type": "execute_result"
    }
   ],
   "source": [
    "variance = 16.945401**2\n",
    "variance"
   ]
  },
  {
   "cell_type": "code",
   "execution_count": 5,
   "id": "06824e81",
   "metadata": {},
   "outputs": [
    {
     "data": {
      "text/plain": [
       "<AxesSubplot:ylabel='Count'>"
      ]
     },
     "execution_count": 5,
     "metadata": {},
     "output_type": "execute_result"
    },
    {
     "data": {
      "image/png": "[encoded data removed]",
      "text/plain": [
       "<Figure size 432x288 with 1 Axes>"
      ]
     },
     "metadata": {
      "needs_background": "light"
     },
     "output_type": "display_data"
    }
   ],
   "source": [
    "sns.histplot(dt)\n",
    "# As we can see from both boxplot and histogram a value around 90 is our outlier considering distance from Q3. "
   ]
  },
  {
   "cell_type": "code",
   "execution_count": 6,
   "id": "6365c590",
   "metadata": {},
   "outputs": [
    {
     "data": {
      "text/plain": [
       "<AxesSubplot:>"
      ]
     },
     "execution_count": 6,
     "metadata": {},
     "output_type": "execute_result"
    },
    {
     "data": {
      "image/png": "[encoded data removed]",
      "text/plain": [
       "<Figure size 432x288 with 1 Axes>"
      ]
     },
     "metadata": {
      "needs_background": "light"
     },
     "output_type": "display_data"
    }
   ],
   "source": [
    "sns.boxplot(data = dt)"
   ]
  },
  {
   "cell_type": "markdown",
   "id": "3cf9ffad",
   "metadata": {},
   "source": [
    "# SET 2\n",
    "### Q1"
   ]
  },
  {
   "cell_type": "code",
   "execution_count": 7,
   "id": "b304a646",
   "metadata": {},
   "outputs": [
    {
     "data": {
      "text/plain": [
       "0.26598552904870054"
      ]
     },
     "execution_count": 7,
     "metadata": {},
     "output_type": "execute_result"
    }
   ],
   "source": [
    "cdf = stats.norm.cdf(50,45,8)\n",
    "pb = 1 - cdf\n",
    "pb "
   ]
  },
  {
   "cell_type": "markdown",
   "id": "a2fca57a",
   "metadata": {},
   "source": [
    "### Q2.b"
   ]
  },
  {
   "cell_type": "code",
   "execution_count": 8,
   "id": "0f32d699",
   "metadata": {},
   "outputs": [
    {
     "data": {
      "text/plain": [
       "36.484487890347154"
      ]
     },
     "execution_count": 8,
     "metadata": {},
     "output_type": "execute_result"
    }
   ],
   "source": [
    "cdf_2 = stats.norm.cdf(30,38,6)\n",
    "cdf_2 * 400"
   ]
  },
  {
   "cell_type": "markdown",
   "id": "e13fe1ce",
   "metadata": {},
   "source": [
    "### Q5"
   ]
  },
  {
   "cell_type": "code",
   "execution_count": 9,
   "id": "de575ddd",
   "metadata": {},
   "outputs": [
    {
     "data": {
      "text/plain": [
       "225.0"
      ]
     },
     "execution_count": 9,
     "metadata": {},
     "output_type": "execute_result"
    }
   ],
   "source": [
    "mean = (5 + 7)*45\n",
    "var = 3**2 + 4**2\n",
    "sd = np.sqrt(var)*45\n",
    "sd"
   ]
  },
  {
   "cell_type": "code",
   "execution_count": 10,
   "id": "4cf2576c",
   "metadata": {},
   "outputs": [
    {
     "name": "stdout",
     "output_type": "stream",
     "text": [
      "Rupee range in millions containing 95% probability for the annual profit of the company (99.00810347848784, 980.9918965215122)\n"
     ]
    }
   ],
   "source": [
    "#Q5. A)\n",
    "\n",
    "print(\"Rupee range in millions containing 95% probability for the annual profit of the company\",stats.norm.interval(0.95,mean,sd))"
   ]
  },
  {
   "cell_type": "code",
   "execution_count": 11,
   "id": "73381cba",
   "metadata": {},
   "outputs": [
    {
     "name": "stdout",
     "output_type": "stream",
     "text": [
      "5th percentile of profit (in Rupees) for the company = 171.0\n"
     ]
    }
   ],
   "source": [
    "#Q5. B)\n",
    "\n",
    "# for 5th percentile we need z-score for lowest 5% of data = 0.05 = -1.64\n",
    "X = mean+(-1.64)*sd\n",
    "print(\"5th percentile of profit (in Rupees) for the company =\",X)"
   ]
  },
  {
   "cell_type": "code",
   "execution_count": 12,
   "id": "611ab758",
   "metadata": {},
   "outputs": [
    {
     "name": "stdout",
     "output_type": "stream",
     "text": [
      "Probility of loss from div 1 = 0.0477903522728147, Probility of loss from div 2 = 0.040059156863817086\n"
     ]
    }
   ],
   "source": [
    "#Q5. C)\n",
    "\n",
    "P_loss_1 = stats.norm.cdf(0,5,3)\n",
    "P_loss_2 = stats.norm.cdf(0,7,4)\n",
    "print(\"Probility of loss from div 1 = {}, Probility of loss from div 2 = {}\".format(P_loss_1,P_loss_2))"
   ]
  },
  {
   "cell_type": "markdown",
   "id": "747521b2",
   "metadata": {},
   "source": [
    "## SET 3"
   ]
  },
  {
   "cell_type": "markdown",
   "id": "bf3219c1",
   "metadata": {},
   "source": [
    "### Q5"
   ]
  },
  {
   "cell_type": "code",
   "execution_count": 13,
   "id": "cf3596e0",
   "metadata": {},
   "outputs": [
    {
     "data": {
      "text/plain": [
       "-0.820782681668124"
      ]
     },
     "execution_count": 13,
     "metadata": {},
     "output_type": "execute_result"
    }
   ],
   "source": [
    "# Null hypothesis Ho is p>= 5% or 0.05, means that Mozilla has more than 5 percent or equal to 5 percent share of the market.\n",
    "# Alt hypothesis Ha is p<=5% or 0.05 meaning Mozilla has a less than five percent share of the market.\n",
    "# Apply One-Sample One-Tail z-test\n",
    "z_scr=(0.046-0.05)/(np.sqrt((0.05*(1-0.05))/2000))\n",
    "z_scr"
   ]
  },
  {
   "cell_type": "code",
   "execution_count": 14,
   "id": "941860f7",
   "metadata": {},
   "outputs": [
    {
     "data": {
      "text/plain": [
       "0.20588503245107104"
      ]
     },
     "execution_count": 14,
     "metadata": {},
     "output_type": "execute_result"
    }
   ],
   "source": [
    "# Find Probability assuming null hypothesis, α = 0.05\n",
    "p_val=1-stats.norm.cdf(abs(z_scr))\n",
    "p_val"
   ]
  },
  {
   "cell_type": "code",
   "execution_count": 15,
   "id": "9ae69a09",
   "metadata": {},
   "outputs": [],
   "source": [
    "# Null hypothesis is accepted as p_val >= 0.05 or 5%."
   ]
  },
  {
   "cell_type": "markdown",
   "id": "a60a3582",
   "metadata": {},
   "source": [
    "## SET 4\n",
    "### Q3"
   ]
  },
  {
   "cell_type": "code",
   "execution_count": 16,
   "id": "cf842628",
   "metadata": {},
   "outputs": [
    {
     "data": {
      "text/plain": [
       "0.10564977366685535"
      ]
     },
     "execution_count": 16,
     "metadata": {},
     "output_type": "execute_result"
    }
   ],
   "source": [
    "# For no investigation mean transaction amount should be between 45 & 55,hence P(45<X<55) = P(X<55) - P(45<X)\n",
    "# find z-scores at x=45:\n",
    "xbar_lw = 45\n",
    "mu = 50\n",
    "sd = 40\n",
    "n = 100\n",
    "z_45=(xbar_lw-mu)/(sd/n**0.5)\n",
    "p_45 = stats.norm.cdf(z_45)\n",
    "p_45"
   ]
  },
  {
   "cell_type": "code",
   "execution_count": 17,
   "id": "3107a731",
   "metadata": {},
   "outputs": [
    {
     "data": {
      "text/plain": [
       "0.8943502263331446"
      ]
     },
     "execution_count": 17,
     "metadata": {},
     "output_type": "execute_result"
    }
   ],
   "source": [
    "# find z-scores at x=55:\n",
    "xbar_hr = 55\n",
    "z_55=(xbar_hr-mu)/(sd/n**0.5)\n",
    "p_55 = stats.norm.cdf(z_55)\n",
    "p_55"
   ]
  },
  {
   "cell_type": "code",
   "execution_count": 18,
   "id": "43fac546",
   "metadata": {},
   "outputs": [],
   "source": [
    "# P(45<X<55)\n",
    "p_no_i = p_55 - p_45"
   ]
  },
  {
   "cell_type": "code",
   "execution_count": 19,
   "id": "3503c2f9",
   "metadata": {},
   "outputs": [
    {
     "name": "stdout",
     "output_type": "stream",
     "text": [
      "Probability of ivestigation to occur at any given week = 0.2112995473337107\n"
     ]
    }
   ],
   "source": [
    "# For investigation to occur, 1-P(45<X<55)\n",
    "print(\"Probability of ivestigation to occur at any given week =\",1-p_no_i)"
   ]
  },
  {
   "cell_type": "markdown",
   "id": "c09667c9",
   "metadata": {},
   "source": [
    "### Q4 "
   ]
  },
  {
   "cell_type": "code",
   "execution_count": 20,
   "id": "90aa893e",
   "metadata": {},
   "outputs": [
    {
     "data": {
      "text/plain": [
       "245.86239999999998"
      ]
     },
     "execution_count": 20,
     "metadata": {},
     "output_type": "execute_result"
    }
   ],
   "source": [
    "# For 5% probability Z-score = -1.64\n",
    "# so 1.96=40/(5)*sqrt(n)\n",
    "n = (40/5*1.96)**2\n",
    "n"
   ]
  },
  {
   "cell_type": "code",
   "execution_count": null,
   "id": "54b6a62f",
   "metadata": {},
   "outputs": [],
   "source": []
  },
  {
   "cell_type": "code",
   "execution_count": null,
   "id": "63b979fe",
   "metadata": {},
   "outputs": [],
   "source": []
  }
 ],
 "metadata": {
  "kernelspec": {
   "display_name": "Python 3",
   "language": "python",
   "name": "python3"
  },
  "language_info": {
   "codemirror_mode": {
    "name": "ipython",
    "version": 3
   },
   "file_extension": ".py",
   "mimetype": "text/x-python",
   "name": "python",
   "nbconvert_exporter": "python",
   "pygments_lexer": "ipython3",
   "version": "3.8.8"
  }
 },
 "nbformat": 4,
 "nbformat_minor": 5
}
